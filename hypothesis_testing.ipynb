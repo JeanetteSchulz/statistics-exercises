{
 "cells": [
  {
   "cell_type": "markdown",
   "id": "37f48176",
   "metadata": {},
   "source": [
    "# Hypothesis Testing Exercise\n",
    "\n",
    "### For each of the following questions, formulate a null and alternative hypothesis (be as specific as you can be), then give an example of what a true positive, true negative, type I and type II errors would look like. Note that some of the questions are intentionally phrased in a vague way. It is your job to reword these as more precise questions that could be tested.\n"
   ]
  },
  {
   "cell_type": "markdown",
   "id": "b539ef11",
   "metadata": {},
   "source": [
    "<strong>Note:</strong>\n",
    "Remember the photo where we predicted if it was a cat or not.\n",
    "\n",
    "<span style=\"color:green\">The Photo is of a cat and the prediction is that it's a cat.</span>\n",
    "\n",
    "True Positive: H<sub>0</sub> is True accept H<sub>0</sub>\n",
    "\n",
    "<span style=\"color:green\">The Photo is of a dog and the prediction is that it's a dog.</span>\n",
    "\n",
    "True Negative: H<sub>0</sub> is False, reject the H<sub>0</sub>\n",
    "\n",
    "<span style=\"color:red\">The Photo is of a cat and the prediction is that it's not a cat.</span>\n",
    "\n",
    "False Positive - Type I: H<sub>0</sub> is True , reject H<sub>0</sub> (reject null when null is true)\n",
    "\n",
    "<span style=\"color:red\">The Photo is of a dog and the prediction is that it's a cat.</span>\n",
    "\n",
    "False Negative - Type II: H<sub>0</sub> is False, accept H<sub>0</sub>"
   ]
  },
  {
   "cell_type": "markdown",
   "id": "71c6ffe5",
   "metadata": {},
   "source": [
    "### Has the network latency gone up since we switched internet service providers?"
   ]
  },
  {
   "cell_type": "markdown",
   "id": "b46c0d23",
   "metadata": {},
   "source": [
    "<span style=\"color:gray\">\n",
    "<strong>H<sub>0</sub>:</strong> There is no change in latency since switching internet service providers.\n",
    "\n",
    "<strong>H<sub>A</sub>:</strong> There is and increase in latency since switching internet service providers.\n",
    "\n",
    "<strong>True Positive:</strong> There is <strong>no change</strong> in latency, H<sub>0</sub> is <strong>accepted</strong>.\n",
    "\n",
    "<strong>True Negative:</strong> There <strong>is</strong> a change in latency, H<sub>0</sub> is <strong>rejected</strong>.\n",
    "\n",
    "<strong>Type I:</strong> There is <strong>no change</strong> in latency, but H<sub>0</sub> was <strong>rejected</strong>.\n",
    "\n",
    "<strong>Type II:</strong> There <strong>is</strong> a change in latency, but H<sub>0</sub> is <strong>accepted</strong>.\n",
    "</span>"
   ]
  },
  {
   "cell_type": "markdown",
   "id": "d9d7b04c",
   "metadata": {},
   "source": [
    "### Is the website redesign any good?"
   ]
  },
  {
   "cell_type": "markdown",
   "id": "994a15ef",
   "metadata": {},
   "source": [
    "<span style=\"color:gray\">\n",
    "<strong>H<sub>0</sub>:</strong>  There is no change in website sales after the redesign.\n",
    "\n",
    "<strong>H<sub>A</sub>:</strong> There is an decrease in website sales since the redesign.\n",
    "\n",
    "<strong>True Positive:</strong> There is <strong>no change</strong> in website sales, H<sub>0</sub> is <strong>accepted</strong>.\n",
    "\n",
    "<strong>True Negative:</strong> There is an <strong>decrease</strong> in website sales, H<sub>0</sub> is <strong>rejected</strong>.\n",
    "\n",
    "<strong>Type I:</strong> There is <strong>no change</strong> in website sales, but H<sub>0</sub> was <strong>rejected</strong>.\n",
    "\n",
    "<strong>Type II:</strong> There is an <strong>decrease</strong> in website sales, but H<sub>0</sub> is <strong>accepted</strong>.\n",
    "</span>"
   ]
  },
  {
   "cell_type": "markdown",
   "id": "641a9811",
   "metadata": {},
   "source": [
    "### Is our television ad driving more sales?"
   ]
  },
  {
   "cell_type": "markdown",
   "id": "19ef1f37",
   "metadata": {},
   "source": [
    "<span style=\"color:gray\">\n",
    "<strong>H<sub>0</sub>:</strong>  There is no difference in sales since the television ad aired.\n",
    "\n",
    "<strong>H<sub>A</sub>:</strong>  There is an increase in sales since the television ad aired.\n",
    "\n",
    "<strong>True Positive:</strong> There is <strong>no change</strong> in sales since the TV ad aired, H<sub>0</sub> is <strong>accepted</strong>.\n",
    "\n",
    "<strong>True Negative:</strong> There is an <strong>increase</strong> in sales since the TV ad aired, H<sub>0</sub> is <strong>rejected</strong>.\n",
    "\n",
    "<strong>Type I:</strong> There is <strong>no change</strong> in sales since the TV ad aired, but H<sub>0</sub> was <strong>rejected</strong>.\n",
    "\n",
    "<strong>Type II:</strong> There is an <strong>increase</strong> in sales since the TV ad aired, but H<sub>0</sub> is <strong>accepted</strong>.\n",
    "</span>"
   ]
  }
 ],
 "metadata": {
  "kernelspec": {
   "display_name": "Python 3",
   "language": "python",
   "name": "python3"
  },
  "language_info": {
   "codemirror_mode": {
    "name": "ipython",
    "version": 3
   },
   "file_extension": ".py",
   "mimetype": "text/x-python",
   "name": "python",
   "nbconvert_exporter": "python",
   "pygments_lexer": "ipython3",
   "version": "3.8.8"
  }
 },
 "nbformat": 4,
 "nbformat_minor": 5
}
