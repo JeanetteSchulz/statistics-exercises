{
 "cells": [
  {
   "cell_type": "markdown",
   "id": "37f48176",
   "metadata": {},
   "source": [
    "# Hypothesis Testing Exercise\n",
    "\n",
    "### For each of the following questions, formulate a null and alternative hypothesis (be as specific as you can be), then give an example of what a true positive, true negative, type I and type II errors would look like. Note that some of the questions are intentionally phrased in a vague way. It is your job to reword these as more precise questions that could be tested.\n"
   ]
  },
  {
   "cell_type": "markdown",
   "id": "b539ef11",
   "metadata": {},
   "source": [
    "<strong>Note:</strong>\n",
    "Remember the photo where we predicted if it was a cat or not.\n",
    "\n",
    "H<sub>0</sub>: The photo is a cat.\n",
    "\n",
    "<span style=\"color:green\">The Photo is of a dog and the prediction is that it's not a cat.</span>\n",
    "\n",
    "True Positive: H<sub>0</sub> is False, reject H<sub>0</sub>\n",
    "\n",
    "<span style=\"color:green\">The Photo is of a cat and the prediction is that it's a cat.</span>\n",
    "\n",
    "True Negative: H<sub>0</sub> is True, accept the H<sub>0</sub>\n",
    "\n",
    "<span style=\"color:red\">The Photo is of a cat and the prediction is that it's not a cat.</span>\n",
    "\n",
    "False Positive - Type I: H<sub>0</sub> is True , reject H<sub>0</sub> (reject null when null is true)\n",
    "\n",
    "<span style=\"color:red\">The Photo is of a dog and the prediction is that it's a cat.</span>\n",
    "\n",
    "False Negative - Type II: H<sub>0</sub> is False, accept H<sub>0</sub>"
   ]
  },
  {
   "cell_type": "markdown",
   "id": "71c6ffe5",
   "metadata": {},
   "source": [
    "### Has the network latency gone up since we switched internet service providers?"
   ]
  },
  {
   "cell_type": "markdown",
   "id": "b46c0d23",
   "metadata": {},
   "source": [
    "<span style=\"color:gray\">\n",
    "<strong>H<sub>0</sub>:</strong> There is no change in latency since switching internet service providers.\n",
    "\n",
    "<strong>H<sub>A</sub>:</strong> There is and increase in latency since switching internet service providers.\n",
    "\n",
    "<strong>True Positive:</strong> There is <strong>no change</strong> in latency, H<sub>0</sub> is <strong>accepted</strong>.\n",
    "\n",
    "<strong>True Negative:</strong> There <strong>is</strong> a change in latency, H<sub>0</sub> is <strong>rejected</strong>.\n",
    "\n",
    "<strong>Type I:</strong> There is <strong>no change</strong> in latency, but H<sub>0</sub> was <strong>rejected</strong>.\n",
    "\n",
    "<strong>Type II:</strong> There <strong>is</strong> a change in latency, but H<sub>0</sub> is <strong>accepted</strong>.\n",
    "</span>"
   ]
  },
  {
   "cell_type": "markdown",
   "id": "d9d7b04c",
   "metadata": {},
   "source": [
    "### Is the website redesign any good?"
   ]
  },
  {
   "cell_type": "markdown",
   "id": "994a15ef",
   "metadata": {},
   "source": [
    "<span style=\"color:gray\">\n",
    "<strong>H<sub>0</sub>:</strong>  There is no change in website sales after the redesign.\n",
    "\n",
    "<strong>H<sub>A</sub>:</strong> There is an decrease in website sales since the redesign.\n",
    "\n",
    "<strong>True Positive:</strong> There is <strong>no change</strong> in website sales, H<sub>0</sub> is <strong>accepted</strong>.\n",
    "\n",
    "<strong>True Negative:</strong> There is an <strong>decrease</strong> in website sales, H<sub>0</sub> is <strong>rejected</strong>.\n",
    "\n",
    "<strong>Type I:</strong> There is <strong>no change</strong> in website sales, but H<sub>0</sub> was <strong>rejected</strong>.\n",
    "\n",
    "<strong>Type II:</strong> There is an <strong>decrease</strong> in website sales, but H<sub>0</sub> is <strong>accepted</strong>.\n",
    "</span>"
   ]
  },
  {
   "cell_type": "markdown",
   "id": "641a9811",
   "metadata": {},
   "source": [
    "### Is our television ad driving more sales?"
   ]
  },
  {
   "cell_type": "markdown",
   "id": "19ef1f37",
   "metadata": {},
   "source": [
    "<span style=\"color:gray\">\n",
    "<strong>H<sub>0</sub>:</strong>  There is no difference in sales since the television ad aired.\n",
    "\n",
    "<strong>H<sub>A</sub>:</strong>  There is an increase in sales since the television ad aired.\n",
    "\n",
    "<strong>True Positive:</strong> There is <strong>no change</strong> in sales since the TV ad aired, H<sub>0</sub> is <strong>accepted</strong>.\n",
    "\n",
    "<strong>True Negative:</strong> There is an <strong>increase</strong> in sales since the TV ad aired, H<sub>0</sub> is <strong>rejected</strong>.\n",
    "\n",
    "<strong>Type I:</strong> There is <strong>no change</strong> in sales since the TV ad aired, but H<sub>0</sub> was <strong>rejected</strong>.\n",
    "\n",
    "<strong>Type II:</strong> There is an <strong>increase</strong> in sales since the TV ad aired, but H<sub>0</sub> is <strong>accepted</strong>.\n",
    "</span>"
   ]
  },
  {
   "cell_type": "markdown",
   "id": "145b9e7c",
   "metadata": {},
   "source": [
    "# T-Test Exercises"
   ]
  },
  {
   "cell_type": "code",
   "execution_count": 1,
   "id": "c64db813",
   "metadata": {},
   "outputs": [],
   "source": [
    "import numpy as np\n",
    "import seaborn as sns\n",
    "import scipy.stats as stats\n",
    "import pandas as pd\n",
    "import matplotlib.pyplot as plt\n",
    "from math import sqrt\n",
    "from pydataset import data"
   ]
  },
  {
   "cell_type": "code",
   "execution_count": 2,
   "id": "45ce6d8d",
   "metadata": {},
   "outputs": [],
   "source": [
    "# Gonna Play with this to make it more obvious if we reject or fail to reject the null hypothesis :)\n",
    "class bcolors:\n",
    "    HEADER = '\\033[95m'\n",
    "    OKBLUE = '\\033[94m'\n",
    "    OKCYAN = '\\033[96m'\n",
    "    OKGREEN = '\\033[92m'\n",
    "    WARNING = '\\033[93m'\n",
    "    FAIL = '\\033[91m'\n",
    "    ENDC = '\\033[0m'\n",
    "    BOLD = '\\033[1m'\n",
    "    UNDERLINE = '\\033[4m'"
   ]
  },
  {
   "cell_type": "markdown",
   "id": "bb2a53fd",
   "metadata": {},
   "source": [
    "### Ace Realty wants to determine whether the average time it takes to sell homes is different for its two offices. A sample of 40 sales from office #1 revealed a mean of 90 days and a standard deviation of 15 days. A sample of 50 sales from office #2 revealed a mean of 100 days and a standard deviation of 20 days. Use a .05 level of significance."
   ]
  },
  {
   "cell_type": "code",
   "execution_count": 3,
   "id": "472d6fd5",
   "metadata": {},
   "outputs": [
    {
     "name": "stdout",
     "output_type": "stream",
     "text": [
      "\u001b[92mWe reject the null hypothesis\u001b[0m\n"
     ]
    }
   ],
   "source": [
    "# Office1: 40 sales, mean: 90 days, std: 15 days\n",
    "# Office2: 50 sales, mean: 100 days, std: 20\n",
    "\n",
    "alpha= 0.05\n",
    "\n",
    "# H0: There is no difference in the time taken to sell homes between the two offices.\n",
    "# Ha: There is a difference in the time taken to sell homes between the two offices.\n",
    "\n",
    "# So this will be a two tailed test since we are looking for any difference.\n",
    "# This is two samples from the same company, so I will use a 2-sample T-test\n",
    "# scipy.stats.ttest_ind_from_stats(mean1, std1, nobs1, mean2, std2, nobs2, equal_var=True, alternative='two-sided')\n",
    "\n",
    "office_compare = stats.ttest_ind_from_stats(90, 15, 40, 100, 20, 50, equal_var= False, alternative='two-sided')\n",
    "# could also do: t, p = stats.ttest_ind_from_stats(90, 15, 40, 100, 20, 50, equal_var= False, alternative='two-sided')\n",
    "\n",
    "p = office_compare[1]\n",
    "\n",
    "if p < alpha:\n",
    "    print(bcolors.OKGREEN + \"We reject the null hypothesis\" + bcolors.ENDC)\n",
    "\n",
    "else:\n",
    "    print(bcolors.FAIL + \"We fail to reject the null hypothesis\" + bcolors.ENDC)\n"
   ]
  },
  {
   "cell_type": "code",
   "execution_count": 4,
   "id": "17929e6c",
   "metadata": {},
   "outputs": [
    {
     "data": {
      "text/plain": [
       "(-1.9217924872959258, 1.942132066377849)"
      ]
     },
     "execution_count": 4,
     "metadata": {},
     "output_type": "execute_result"
    }
   ],
   "source": [
    "# The long way...\n",
    "# Create my arrays\n",
    "office1 = np.random.normal(90, 15, 40)\n",
    "office2 = np.random.normal(100, 20, 50)\n",
    "\n",
    "\n",
    "xbar1 = office1.mean()\n",
    "xbar2 = office2.mean()\n",
    "\n",
    "n1 = office1.size\n",
    "n2 = office2.size\n",
    "\n",
    "s1 = office1.std()\n",
    "s2 = office2.std()\n",
    "\n",
    "degf = n1 + n2 - 2\n",
    "\n",
    "s_p = sqrt(((n1 - 1) * s1**2 + (n2 - 1) * s2**2) / (n1 + n2 - 2))\n",
    "s_p\n",
    "\n",
    "standard_error = se = sqrt(s1**2 / n1 + s2**2 / n2)\n",
    "\n",
    "t = (xbar1 - xbar2) / (s_p * sqrt(1/n1 + 1/n2))\n",
    "\n",
    "p = stats.t(degf).sf(t) * 2 # *2 for two-tailed test\n",
    "t , p"
   ]
  },
  {
   "cell_type": "markdown",
   "id": "4bb885c5",
   "metadata": {},
   "source": [
    "### Load the mpg dataset and use it to answer the following questions:\n",
    "\n",
    "### Is there a difference in fuel-efficiency in cars from 2008 vs 1999?"
   ]
  },
  {
   "cell_type": "code",
   "execution_count": 5,
   "id": "6c685ff7",
   "metadata": {
    "scrolled": true
   },
   "outputs": [],
   "source": [
    "df = data('mpg')"
   ]
  },
  {
   "cell_type": "code",
   "execution_count": 6,
   "id": "8ef08e62",
   "metadata": {},
   "outputs": [],
   "source": [
    "# I'm gonna create a column for avg milage and use this to determine fuel-efficiency\n",
    "df = df.assign(avg_mileage = (df.hwy + df.cty) /2 )"
   ]
  },
  {
   "cell_type": "code",
   "execution_count": 7,
   "id": "34c9bb24",
   "metadata": {},
   "outputs": [
    {
     "name": "stdout",
     "output_type": "stream",
     "text": [
      "\u001b[91mWe fail to reject the null hypothesis\u001b[0m\n"
     ]
    }
   ],
   "source": [
    "# Now to create my array's\n",
    "mileage_2008 = df[df.year == 2008].avg_mileage\n",
    "milage_1999 = df[df.year == 1999].avg_mileage\n",
    "\n",
    "# Check to see if variances are equal; they are not\n",
    "# mileage_2008.var() , milage_1999.var()\n",
    "\n",
    "# Define my hypothesis before testing:\n",
    "# H0: There is no difference in fuel-efficiency between cars from 2008 vs 1999.\n",
    "# Ha: There is a difference in fuel-efficiency between cars from 2008 vs 1999.\n",
    "\n",
    "# This is a two-sampled, two-tailed test. \n",
    "t, p = stats.ttest_ind(mileage_2008, milage_1999, equal_var=False)\n",
    "# t= -0.21960177245940962\n",
    "# p= 0.8263750772060638\n",
    "\n",
    "if p < alpha:\n",
    "    print(bcolors.OKGREEN + \"We reject the null hypothesis\" + bcolors.ENDC)\n",
    "\n",
    "else:\n",
    "    print(bcolors.FAIL + \"We fail to reject the null hypothesis\" + bcolors.ENDC)"
   ]
  },
  {
   "cell_type": "markdown",
   "id": "285d987c",
   "metadata": {},
   "source": [
    "### Are compact cars more fuel-efficient than the average car?"
   ]
  },
  {
   "cell_type": "code",
   "execution_count": 8,
   "id": "a49d3bea",
   "metadata": {},
   "outputs": [
    {
     "name": "stdout",
     "output_type": "stream",
     "text": [
      "\u001b[91mWe fail to reject the null hypothesis\u001b[0m\n"
     ]
    }
   ],
   "source": [
    "# First to create my array's\n",
    "# The data set doesn't have an \"average\" class of car, but it does have \"midsize\" so I'll use that\n",
    "compact_mileage = df[df[\"class\"] == \"compact\"].avg_mileage\n",
    "midsize_milage = df[df[\"class\"] == \"midsize\"].avg_mileage\n",
    "\n",
    "# Check to see if variances are equal; they are not\n",
    "# compact_mileage.var() , midsize_milage.var()\n",
    "\n",
    "# Define my hypothesis before testing:\n",
    "# H0: There is no difference in fuel-efficiency between compact cars and midsize cars.\n",
    "# Ha: There is a difference in fuel-efficiency between compact cars and midsize cars.\n",
    "\n",
    "# This is a two-sampled, two-tailed test. \n",
    "t, p = stats.ttest_ind(compact_mileage, midsize_milage, equal_var=False)\n",
    "# t= 1.9869420198494934\n",
    "# p= 0.050653659390104896\n",
    "\n",
    "if p < alpha:\n",
    "    print(bcolors.OKGREEN + \"We reject the null hypothesis\" + bcolors.ENDC)\n",
    "\n",
    "else:\n",
    "    print(bcolors.FAIL + \"We fail to reject the null hypothesis\" + bcolors.ENDC)\n"
   ]
  },
  {
   "cell_type": "markdown",
   "id": "cf6c296f",
   "metadata": {},
   "source": [
    "### Do manual cars get better gas mileage than automatic cars?"
   ]
  },
  {
   "cell_type": "code",
   "execution_count": 9,
   "id": "e7fd6698",
   "metadata": {},
   "outputs": [
    {
     "name": "stdout",
     "output_type": "stream",
     "text": [
      "\u001b[92mWe reject the null hypothesis\u001b[0m\n"
     ]
    }
   ],
   "source": [
    "# Creating my array's\n",
    "automatic_milage = df[df.trans.str.startswith(\"a\")].avg_mileage\n",
    "manual_milage = df[df.trans.str.startswith(\"m\")].avg_mileage\n",
    "\n",
    "# Check to see if variances are equal; they are not\n",
    "# automatic_milage.var() , manual_milage.var()\n",
    "\n",
    "# Define my hypothesis before testing:\n",
    "# H0: Manual cars get <= gas mileage than automatic cars.\n",
    "# Ha: Manual cars get > gas mileage than automatic cars.\n",
    "\n",
    "# This is a two-sampled, one-tailed test (only want to know if > gas mileage) \n",
    "t, p = stats.ttest_ind(manual_milage, automatic_milage, equal_var=False)\n",
    "t, p/2, alpha\n",
    "# t= 4.443514012903071\n",
    "# p/2= 8.976124499958965e-06\n",
    "\n",
    "# For two-tailed tests we don't seem to check the T. However, in one-tailed tests, we see if t is > or < 0. \n",
    "# The direction of the equality sign for t looks to be determined by our Ha hypothesis. \n",
    "if (p/2 < alpha) & (t > 0):\n",
    "    print(bcolors.OKGREEN + \"We reject the null hypothesis\" + bcolors.ENDC)\n",
    "\n",
    "else:\n",
    "    print(bcolors.FAIL + \"We fail to reject the null hypothesis\" + bcolors.ENDC)\n"
   ]
  },
  {
   "cell_type": "markdown",
   "id": "ba6c4b2b",
   "metadata": {},
   "source": [
    "# Correlation Exercises\n",
    "\n",
    "### Use the `telco_churn` data. Does tenure correlate with monthly charges? Total charges? What happens if you control for phone and internet service?"
   ]
  },
  {
   "cell_type": "markdown",
   "id": "7442be1f",
   "metadata": {},
   "source": [
    "### Does tenure correlate with monthly charges? \n",
    "\n",
    "<strong>H<sub>0</sub>:</strong> There is no linear correlation between the tenure of customers and their monthly charges.\n",
    "\n",
    "<strong>H<sub>a</sub>:</strong> There is a linear correlation between the tenure of customers and their monthly charges."
   ]
  },
  {
   "cell_type": "code",
   "execution_count": 10,
   "id": "6479e9d6",
   "metadata": {},
   "outputs": [
    {
     "data": {
      "text/html": [
       "<div>\n",
       "<style scoped>\n",
       "    .dataframe tbody tr th:only-of-type {\n",
       "        vertical-align: middle;\n",
       "    }\n",
       "\n",
       "    .dataframe tbody tr th {\n",
       "        vertical-align: top;\n",
       "    }\n",
       "\n",
       "    .dataframe thead th {\n",
       "        text-align: right;\n",
       "    }\n",
       "</style>\n",
       "<table border=\"1\" class=\"dataframe\">\n",
       "  <thead>\n",
       "    <tr style=\"text-align: right;\">\n",
       "      <th></th>\n",
       "      <th>customerID</th>\n",
       "      <th>gender</th>\n",
       "      <th>SeniorCitizen</th>\n",
       "      <th>Partner</th>\n",
       "      <th>Dependents</th>\n",
       "      <th>tenure</th>\n",
       "      <th>PhoneService</th>\n",
       "      <th>MultipleLines</th>\n",
       "      <th>InternetService</th>\n",
       "      <th>OnlineSecurity</th>\n",
       "      <th>...</th>\n",
       "      <th>DeviceProtection</th>\n",
       "      <th>TechSupport</th>\n",
       "      <th>StreamingTV</th>\n",
       "      <th>StreamingMovies</th>\n",
       "      <th>Contract</th>\n",
       "      <th>PaperlessBilling</th>\n",
       "      <th>PaymentMethod</th>\n",
       "      <th>MonthlyCharges</th>\n",
       "      <th>TotalCharges</th>\n",
       "      <th>Churn</th>\n",
       "    </tr>\n",
       "  </thead>\n",
       "  <tbody>\n",
       "    <tr>\n",
       "      <th>0</th>\n",
       "      <td>7590-VHVEG</td>\n",
       "      <td>Female</td>\n",
       "      <td>0</td>\n",
       "      <td>Yes</td>\n",
       "      <td>No</td>\n",
       "      <td>1</td>\n",
       "      <td>No</td>\n",
       "      <td>No phone service</td>\n",
       "      <td>DSL</td>\n",
       "      <td>No</td>\n",
       "      <td>...</td>\n",
       "      <td>No</td>\n",
       "      <td>No</td>\n",
       "      <td>No</td>\n",
       "      <td>No</td>\n",
       "      <td>Month-to-month</td>\n",
       "      <td>Yes</td>\n",
       "      <td>Electronic check</td>\n",
       "      <td>29.85</td>\n",
       "      <td>29.85</td>\n",
       "      <td>No</td>\n",
       "    </tr>\n",
       "    <tr>\n",
       "      <th>1</th>\n",
       "      <td>5575-GNVDE</td>\n",
       "      <td>Male</td>\n",
       "      <td>0</td>\n",
       "      <td>No</td>\n",
       "      <td>No</td>\n",
       "      <td>34</td>\n",
       "      <td>Yes</td>\n",
       "      <td>No</td>\n",
       "      <td>DSL</td>\n",
       "      <td>Yes</td>\n",
       "      <td>...</td>\n",
       "      <td>Yes</td>\n",
       "      <td>No</td>\n",
       "      <td>No</td>\n",
       "      <td>No</td>\n",
       "      <td>One year</td>\n",
       "      <td>No</td>\n",
       "      <td>Mailed check</td>\n",
       "      <td>56.95</td>\n",
       "      <td>1889.50</td>\n",
       "      <td>No</td>\n",
       "    </tr>\n",
       "    <tr>\n",
       "      <th>2</th>\n",
       "      <td>3668-QPYBK</td>\n",
       "      <td>Male</td>\n",
       "      <td>0</td>\n",
       "      <td>No</td>\n",
       "      <td>No</td>\n",
       "      <td>2</td>\n",
       "      <td>Yes</td>\n",
       "      <td>No</td>\n",
       "      <td>DSL</td>\n",
       "      <td>Yes</td>\n",
       "      <td>...</td>\n",
       "      <td>No</td>\n",
       "      <td>No</td>\n",
       "      <td>No</td>\n",
       "      <td>No</td>\n",
       "      <td>Month-to-month</td>\n",
       "      <td>Yes</td>\n",
       "      <td>Mailed check</td>\n",
       "      <td>53.85</td>\n",
       "      <td>108.15</td>\n",
       "      <td>Yes</td>\n",
       "    </tr>\n",
       "    <tr>\n",
       "      <th>3</th>\n",
       "      <td>7795-CFOCW</td>\n",
       "      <td>Male</td>\n",
       "      <td>0</td>\n",
       "      <td>No</td>\n",
       "      <td>No</td>\n",
       "      <td>45</td>\n",
       "      <td>No</td>\n",
       "      <td>No phone service</td>\n",
       "      <td>DSL</td>\n",
       "      <td>Yes</td>\n",
       "      <td>...</td>\n",
       "      <td>Yes</td>\n",
       "      <td>Yes</td>\n",
       "      <td>No</td>\n",
       "      <td>No</td>\n",
       "      <td>One year</td>\n",
       "      <td>No</td>\n",
       "      <td>Bank transfer (automatic)</td>\n",
       "      <td>42.30</td>\n",
       "      <td>1840.75</td>\n",
       "      <td>No</td>\n",
       "    </tr>\n",
       "    <tr>\n",
       "      <th>4</th>\n",
       "      <td>9237-HQITU</td>\n",
       "      <td>Female</td>\n",
       "      <td>0</td>\n",
       "      <td>No</td>\n",
       "      <td>No</td>\n",
       "      <td>2</td>\n",
       "      <td>Yes</td>\n",
       "      <td>No</td>\n",
       "      <td>Fiber optic</td>\n",
       "      <td>No</td>\n",
       "      <td>...</td>\n",
       "      <td>No</td>\n",
       "      <td>No</td>\n",
       "      <td>No</td>\n",
       "      <td>No</td>\n",
       "      <td>Month-to-month</td>\n",
       "      <td>Yes</td>\n",
       "      <td>Electronic check</td>\n",
       "      <td>70.70</td>\n",
       "      <td>151.65</td>\n",
       "      <td>Yes</td>\n",
       "    </tr>\n",
       "  </tbody>\n",
       "</table>\n",
       "<p>5 rows × 21 columns</p>\n",
       "</div>"
      ],
      "text/plain": [
       "   customerID  gender  SeniorCitizen Partner Dependents  tenure PhoneService  \\\n",
       "0  7590-VHVEG  Female              0     Yes         No       1           No   \n",
       "1  5575-GNVDE    Male              0      No         No      34          Yes   \n",
       "2  3668-QPYBK    Male              0      No         No       2          Yes   \n",
       "3  7795-CFOCW    Male              0      No         No      45           No   \n",
       "4  9237-HQITU  Female              0      No         No       2          Yes   \n",
       "\n",
       "      MultipleLines InternetService OnlineSecurity  ... DeviceProtection  \\\n",
       "0  No phone service             DSL             No  ...               No   \n",
       "1                No             DSL            Yes  ...              Yes   \n",
       "2                No             DSL            Yes  ...               No   \n",
       "3  No phone service             DSL            Yes  ...              Yes   \n",
       "4                No     Fiber optic             No  ...               No   \n",
       "\n",
       "  TechSupport StreamingTV StreamingMovies        Contract PaperlessBilling  \\\n",
       "0          No          No              No  Month-to-month              Yes   \n",
       "1          No          No              No        One year               No   \n",
       "2          No          No              No  Month-to-month              Yes   \n",
       "3         Yes          No              No        One year               No   \n",
       "4          No          No              No  Month-to-month              Yes   \n",
       "\n",
       "               PaymentMethod MonthlyCharges  TotalCharges  Churn  \n",
       "0           Electronic check          29.85         29.85     No  \n",
       "1               Mailed check          56.95       1889.50     No  \n",
       "2               Mailed check          53.85        108.15    Yes  \n",
       "3  Bank transfer (automatic)          42.30       1840.75     No  \n",
       "4           Electronic check          70.70        151.65    Yes  \n",
       "\n",
       "[5 rows x 21 columns]"
      ]
     },
     "execution_count": 10,
     "metadata": {},
     "output_type": "execute_result"
    }
   ],
   "source": [
    "telco = pd.read_csv(\"telco_churn.csv\")\n",
    "\n",
    "# drop nulls\n",
    "telco = telco.dropna()\n",
    "\n",
    "#view data frame\n",
    "telco.head()"
   ]
  },
  {
   "cell_type": "code",
   "execution_count": 11,
   "id": "8eec03b3",
   "metadata": {},
   "outputs": [
    {
     "name": "stdout",
     "output_type": "stream",
     "text": [
      "\u001b[92mWe reject the null hypothesis\u001b[0m\n"
     ]
    }
   ],
   "source": [
    "# I have no idea what I'm doing~\n",
    "corr, p = stats.pearsonr(telco.tenure, telco.MonthlyCharges)\n",
    "\n",
    "corr , p\n",
    "\n",
    "if p < alpha:\n",
    "    print(bcolors.OKGREEN + \"We reject the null hypothesis\" + bcolors.ENDC)\n",
    "\n",
    "else:\n",
    "    print(bcolors.FAIL + \"We fail to reject the null hypothesis\" + bcolors.ENDC)"
   ]
  },
  {
   "cell_type": "code",
   "execution_count": 12,
   "id": "baa2c9de",
   "metadata": {},
   "outputs": [
    {
     "data": {
      "text/plain": [
       "Text(0, 0.5, 'Monthly Charges')"
      ]
     },
     "execution_count": 12,
     "metadata": {},
     "output_type": "execute_result"
    },
    {
     "data": {
      "image/png": "[encoded data removed]",
      "text/plain": [
       "<Figure size 432x288 with 1 Axes>"
      ]
     },
     "metadata": {
      "needs_background": "light"
     },
     "output_type": "display_data"
    }
   ],
   "source": [
    "plt.scatter(telco.tenure,telco.MonthlyCharges)\n",
    "plt.xlabel(\"Months with Telco\")\n",
    "plt.ylabel(\"Monthly Charges\")"
   ]
  },
  {
   "cell_type": "markdown",
   "id": "4db3c7ed",
   "metadata": {},
   "source": [
    "### Does tenure correlate with Total charges? \n",
    "\n",
    "<strong>H<sub>0</sub>:</strong> There is no linear correlation between the tenure of customers and their total charges.\n",
    "\n",
    "<strong>H<sub>a</sub>:</strong> There is a linear correlation between the tenure of customers and their total charges."
   ]
  },
  {
   "cell_type": "code",
   "execution_count": 13,
   "id": "f23bcb56",
   "metadata": {},
   "outputs": [
    {
     "name": "stdout",
     "output_type": "stream",
     "text": [
      "\u001b[92mWe reject the null hypothesis\u001b[0m\n"
     ]
    }
   ],
   "source": [
    "corr, p = stats.pearsonr(telco.tenure, telco.TotalCharges)\n",
    "\n",
    "corr, p\n",
    "\n",
    "# corr: 0.825880460933202\n",
    "# p: 0.0\n",
    "\n",
    "if p < alpha:\n",
    "    print(bcolors.OKGREEN + \"We reject the null hypothesis\" + bcolors.ENDC)\n",
    "\n",
    "else:\n",
    "    print(bcolors.FAIL + \"We fail to reject the null hypothesis\" + bcolors.ENDC)\n"
   ]
  },
  {
   "cell_type": "code",
   "execution_count": 14,
   "id": "173522ec",
   "metadata": {},
   "outputs": [
    {
     "data": {
      "image/png": "[encoded data removed]",
      "text/plain": [
       "<Figure size 432x288 with 1 Axes>"
      ]
     },
     "metadata": {
      "needs_background": "light"
     },
     "output_type": "display_data"
    }
   ],
   "source": [
    "plt.scatter(telco.tenure,telco.TotalCharges);"
   ]
  },
  {
   "cell_type": "markdown",
   "id": "ccadb035",
   "metadata": {},
   "source": [
    "### What happens if you control for phone and internet service?\n",
    "\n",
    "<strong>H<sub>0</sub>:</strong> There is no linear correlation between the tenure of customers and their total charges.\n",
    "\n",
    "<strong>H<sub>a</sub>:</strong> There is a linear correlation between the tenure of customers and their total charges."
   ]
  },
  {
   "cell_type": "code",
   "execution_count": 15,
   "id": "0932927b",
   "metadata": {},
   "outputs": [
    {
     "data": {
      "text/plain": [
       "0         29.85\n",
       "1       1889.50\n",
       "2        108.15\n",
       "3       1840.75\n",
       "4        151.65\n",
       "         ...   \n",
       "7038    1990.50\n",
       "7039    7362.90\n",
       "7040     346.45\n",
       "7041     306.60\n",
       "7042    6844.50\n",
       "Name: TotalCharges, Length: 5512, dtype: float64"
      ]
     },
     "execution_count": 15,
     "metadata": {},
     "output_type": "execute_result"
    }
   ],
   "source": [
    "telco[telco.InternetService != \"No\"].TotalCharges"
   ]
  },
  {
   "cell_type": "code",
   "execution_count": 16,
   "id": "f3913fc3",
   "metadata": {},
   "outputs": [
    {
     "data": {
      "image/png": "[encoded data removed]",
      "text/plain": [
       "<Figure size 432x288 with 1 Axes>"
      ]
     },
     "metadata": {
      "needs_background": "light"
     },
     "output_type": "display_data"
    }
   ],
   "source": [
    "# create a function that will loop for all combinations, phone 0, phone 1, phone 2, no internet, dsl, fiberone, etc\n",
    "plt.scatter(telco[telco.InternetService != \"No\"].tenure, telco[telco.InternetService != \"No\"].TotalCharges);"
   ]
  },
  {
   "cell_type": "markdown",
   "id": "a86d24a8",
   "metadata": {},
   "source": [
    "### Use the `employees` database.\n",
    "\n",
    "### Is there a relationship between how long an employee has been with the company and their salary?\n"
   ]
  },
  {
   "cell_type": "code",
   "execution_count": 17,
   "id": "475a8a13",
   "metadata": {},
   "outputs": [],
   "source": [
    "# This will be what I use every time I want to talk to a database in SQL\n",
    "def get_db_url(database_name):\n",
    "    from env import host, user, password\n",
    "    return f'mysql+pymysql://{user}:{password}@{host}/{database_name}'"
   ]
  },
  {
   "cell_type": "code",
   "execution_count": 18,
   "id": "0a731ac5",
   "metadata": {},
   "outputs": [
    {
     "data": {
      "text/html": [
       "<div>\n",
       "<style scoped>\n",
       "    .dataframe tbody tr th:only-of-type {\n",
       "        vertical-align: middle;\n",
       "    }\n",
       "\n",
       "    .dataframe tbody tr th {\n",
       "        vertical-align: top;\n",
       "    }\n",
       "\n",
       "    .dataframe thead th {\n",
       "        text-align: right;\n",
       "    }\n",
       "</style>\n",
       "<table border=\"1\" class=\"dataframe\">\n",
       "  <thead>\n",
       "    <tr style=\"text-align: right;\">\n",
       "      <th></th>\n",
       "      <th>emp_no</th>\n",
       "      <th>salary</th>\n",
       "      <th>from_date</th>\n",
       "      <th>to_date</th>\n",
       "    </tr>\n",
       "  </thead>\n",
       "  <tbody>\n",
       "    <tr>\n",
       "      <th>0</th>\n",
       "      <td>10001</td>\n",
       "      <td>60117</td>\n",
       "      <td>1986-06-26</td>\n",
       "      <td>1987-06-26</td>\n",
       "    </tr>\n",
       "    <tr>\n",
       "      <th>1</th>\n",
       "      <td>10001</td>\n",
       "      <td>62102</td>\n",
       "      <td>1987-06-26</td>\n",
       "      <td>1988-06-25</td>\n",
       "    </tr>\n",
       "    <tr>\n",
       "      <th>2</th>\n",
       "      <td>10001</td>\n",
       "      <td>66074</td>\n",
       "      <td>1988-06-25</td>\n",
       "      <td>1989-06-25</td>\n",
       "    </tr>\n",
       "    <tr>\n",
       "      <th>3</th>\n",
       "      <td>10001</td>\n",
       "      <td>66596</td>\n",
       "      <td>1989-06-25</td>\n",
       "      <td>1990-06-25</td>\n",
       "    </tr>\n",
       "    <tr>\n",
       "      <th>4</th>\n",
       "      <td>10001</td>\n",
       "      <td>66961</td>\n",
       "      <td>1990-06-25</td>\n",
       "      <td>1991-06-25</td>\n",
       "    </tr>\n",
       "  </tbody>\n",
       "</table>\n",
       "</div>"
      ],
      "text/plain": [
       "   emp_no  salary   from_date     to_date\n",
       "0   10001   60117  1986-06-26  1987-06-26\n",
       "1   10001   62102  1987-06-26  1988-06-25\n",
       "2   10001   66074  1988-06-25  1989-06-25\n",
       "3   10001   66596  1989-06-25  1990-06-25\n",
       "4   10001   66961  1990-06-25  1991-06-25"
      ]
     },
     "execution_count": 18,
     "metadata": {},
     "output_type": "execute_result"
    }
   ],
   "source": [
    "# length an employee has been with the company = min.From_date to max.to_date?\n",
    "\n",
    "salaries = pd.read_sql(\"\"\"SELECT * FROM salaries\"\"\" , get_db_url(\"employees\"))\n",
    "salaries[\"from_date\"].astype(str)\n",
    "salaries.head()"
   ]
  },
  {
   "cell_type": "code",
   "execution_count": 19,
   "id": "4c69d1ae",
   "metadata": {},
   "outputs": [
    {
     "data": {
      "text/plain": [
       "datetime.date(1986, 6, 26)"
      ]
     },
     "execution_count": 19,
     "metadata": {},
     "output_type": "execute_result"
    }
   ],
   "source": [
    "salaries.from_date[0]"
   ]
  },
  {
   "cell_type": "code",
   "execution_count": 20,
   "id": "54539e7c",
   "metadata": {},
   "outputs": [
    {
     "ename": "NameError",
     "evalue": "name 'DataFrame' is not defined",
     "output_type": "error",
     "traceback": [
      "\u001b[0;31m---------------------------------------------------------------------------\u001b[0m",
      "\u001b[0;31mNameError\u001b[0m                                 Traceback (most recent call last)",
      "\u001b[0;32m<ipython-input-20-11f681b7b86e>\u001b[0m in \u001b[0;36m<module>\u001b[0;34m\u001b[0m\n\u001b[0;32m----> 1\u001b[0;31m \u001b[0mDataFrame\u001b[0m\u001b[0;34m[\u001b[0m\u001b[0;34m\"from_date\"\u001b[0m\u001b[0;34m]\u001b[0m\u001b[0;34m.\u001b[0m\u001b[0mastype\u001b[0m\u001b[0;34m(\u001b[0m\u001b[0mstr\u001b[0m\u001b[0;34m)\u001b[0m\u001b[0;34m\u001b[0m\u001b[0;34m\u001b[0m\u001b[0m\n\u001b[0m",
      "\u001b[0;31mNameError\u001b[0m: name 'DataFrame' is not defined"
     ]
    }
   ],
   "source": [
    "DataFrame[\"from_date\"].astype(str)"
   ]
  },
  {
   "cell_type": "code",
   "execution_count": null,
   "id": "4636765c",
   "metadata": {},
   "outputs": [],
   "source": [
    "df = df.assign(days_at_company = (df. + df.cty) /2 )"
   ]
  },
  {
   "cell_type": "markdown",
   "id": "c9b8b44e",
   "metadata": {},
   "source": [
    "### Is there a relationship between how long an employee has been with the company and the number of titles they have had?"
   ]
  },
  {
   "cell_type": "code",
   "execution_count": null,
   "id": "7b864127",
   "metadata": {},
   "outputs": [],
   "source": [
    "salaries.info()"
   ]
  },
  {
   "cell_type": "markdown",
   "id": "79a43138",
   "metadata": {},
   "source": [
    "# Chi Squared Exercises\n",
    "\n",
    "### 1. Use the following contingency table to help answer the question of whether using a macbook and being a codeup student are independent of each other."
   ]
  },
  {
   "cell_type": "markdown",
   "id": "17d614f0",
   "metadata": {},
   "source": [
    "Form hypothesis:\n",
    "\n",
    "<strong>H<sub>0</sub>:</strong> There is no association between using a macbook and being a codeup student.\n",
    "\n",
    "<strong>H<sub>a</sub>:</strong> There is an association between using a macbook and being a codeup student."
   ]
  },
  {
   "cell_type": "code",
   "execution_count": 21,
   "id": "5ff6873b",
   "metadata": {},
   "outputs": [
    {
     "data": {
      "text/html": [
       "<div>\n",
       "<style scoped>\n",
       "    .dataframe tbody tr th:only-of-type {\n",
       "        vertical-align: middle;\n",
       "    }\n",
       "\n",
       "    .dataframe tbody tr th {\n",
       "        vertical-align: top;\n",
       "    }\n",
       "\n",
       "    .dataframe thead th {\n",
       "        text-align: right;\n",
       "    }\n",
       "</style>\n",
       "<table border=\"1\" class=\"dataframe\">\n",
       "  <thead>\n",
       "    <tr style=\"text-align: right;\">\n",
       "      <th></th>\n",
       "      <th>Codeup Student</th>\n",
       "      <th>Not Codeup Student</th>\n",
       "    </tr>\n",
       "  </thead>\n",
       "  <tbody>\n",
       "    <tr>\n",
       "      <th>Uses a Macbook</th>\n",
       "      <td>49</td>\n",
       "      <td>20</td>\n",
       "    </tr>\n",
       "    <tr>\n",
       "      <th>Doesn't Use A Macbook</th>\n",
       "      <td>1</td>\n",
       "      <td>30</td>\n",
       "    </tr>\n",
       "  </tbody>\n",
       "</table>\n",
       "</div>"
      ],
      "text/plain": [
       "                       Codeup Student  Not Codeup Student\n",
       "Uses a Macbook                     49                  20\n",
       "Doesn't Use A Macbook               1                  30"
      ]
     },
     "execution_count": 21,
     "metadata": {},
     "output_type": "execute_result"
    }
   ],
   "source": [
    "# First to put the values from the contigency table on the curriculum into code\n",
    "observed = pd.DataFrame([[49, 20], [1, 30]], index=[\"Uses a Macbook\", \"Doesn't Use A Macbook\"], columns=[\"Codeup Student\",\"Not Codeup Student\"])\n",
    "observed\n"
   ]
  },
  {
   "cell_type": "code",
   "execution_count": 22,
   "id": "601c6c45",
   "metadata": {},
   "outputs": [
    {
     "name": "stdout",
     "output_type": "stream",
     "text": [
      "Observed\n",
      "\n",
      "[[49 20]\n",
      " [ 1 30]]\n",
      "---\n",
      "Expected\n",
      "\n",
      "[[34.5 34.5]\n",
      " [15.5 15.5]]\n",
      "---\n",
      "\n",
      "chi^2 = 36.6526\n",
      "p     = 0.0000\n"
     ]
    }
   ],
   "source": [
    "# Now for the magic to happen:\n",
    "chi2, p, degf, expected = stats.chi2_contingency(observed)\n",
    "\n",
    "print('Observed\\n')\n",
    "print(observed.values)\n",
    "print('---\\nExpected\\n')\n",
    "print(expected)\n",
    "print('---\\n')\n",
    "print(f'chi^2 = {chi2:.4f}')\n",
    "print(f'p     = {p:.4f}')"
   ]
  },
  {
   "cell_type": "code",
   "execution_count": 23,
   "id": "dfcf9be0",
   "metadata": {},
   "outputs": [
    {
     "name": "stdout",
     "output_type": "stream",
     "text": [
      "\u001b[92mWe reject the null hypothesis\u001b[0m\n"
     ]
    }
   ],
   "source": [
    "if p < alpha:\n",
    "    print(bcolors.OKGREEN + \"We reject the null hypothesis\" + bcolors.ENDC)\n",
    "\n",
    "else:\n",
    "    print(bcolors.FAIL + \"We fail to reject the null hypothesis\" + bcolors.ENDC)\n"
   ]
  },
  {
   "cell_type": "markdown",
   "id": "d56d519b",
   "metadata": {},
   "source": [
    "### 2. Choose another 2 categorical variables from the `mpg` dataset and perform a <i>chi<sup>2</sup></i> contingency table test with them. Be sure to state your null and alternative hypotheses."
   ]
  },
  {
   "cell_type": "code",
   "execution_count": 24,
   "id": "88ddc57d",
   "metadata": {},
   "outputs": [],
   "source": [
    "mpg = data('mpg')"
   ]
  },
  {
   "cell_type": "code",
   "execution_count": 25,
   "id": "b6045ead",
   "metadata": {},
   "outputs": [
    {
     "data": {
      "text/html": [
       "<div>\n",
       "<style scoped>\n",
       "    .dataframe tbody tr th:only-of-type {\n",
       "        vertical-align: middle;\n",
       "    }\n",
       "\n",
       "    .dataframe tbody tr th {\n",
       "        vertical-align: top;\n",
       "    }\n",
       "\n",
       "    .dataframe thead th {\n",
       "        text-align: right;\n",
       "    }\n",
       "</style>\n",
       "<table border=\"1\" class=\"dataframe\">\n",
       "  <thead>\n",
       "    <tr style=\"text-align: right;\">\n",
       "      <th></th>\n",
       "      <th>manufacturer</th>\n",
       "      <th>model</th>\n",
       "      <th>displ</th>\n",
       "      <th>year</th>\n",
       "      <th>cyl</th>\n",
       "      <th>trans</th>\n",
       "      <th>drv</th>\n",
       "      <th>cty</th>\n",
       "      <th>hwy</th>\n",
       "      <th>fl</th>\n",
       "      <th>class</th>\n",
       "    </tr>\n",
       "  </thead>\n",
       "  <tbody>\n",
       "    <tr>\n",
       "      <th>1</th>\n",
       "      <td>audi</td>\n",
       "      <td>a4</td>\n",
       "      <td>1.8</td>\n",
       "      <td>1999</td>\n",
       "      <td>4</td>\n",
       "      <td>auto(l5)</td>\n",
       "      <td>f</td>\n",
       "      <td>18</td>\n",
       "      <td>29</td>\n",
       "      <td>p</td>\n",
       "      <td>compact</td>\n",
       "    </tr>\n",
       "    <tr>\n",
       "      <th>2</th>\n",
       "      <td>audi</td>\n",
       "      <td>a4</td>\n",
       "      <td>1.8</td>\n",
       "      <td>1999</td>\n",
       "      <td>4</td>\n",
       "      <td>manual(m5)</td>\n",
       "      <td>f</td>\n",
       "      <td>21</td>\n",
       "      <td>29</td>\n",
       "      <td>p</td>\n",
       "      <td>compact</td>\n",
       "    </tr>\n",
       "    <tr>\n",
       "      <th>3</th>\n",
       "      <td>audi</td>\n",
       "      <td>a4</td>\n",
       "      <td>2.0</td>\n",
       "      <td>2008</td>\n",
       "      <td>4</td>\n",
       "      <td>manual(m6)</td>\n",
       "      <td>f</td>\n",
       "      <td>20</td>\n",
       "      <td>31</td>\n",
       "      <td>p</td>\n",
       "      <td>compact</td>\n",
       "    </tr>\n",
       "    <tr>\n",
       "      <th>4</th>\n",
       "      <td>audi</td>\n",
       "      <td>a4</td>\n",
       "      <td>2.0</td>\n",
       "      <td>2008</td>\n",
       "      <td>4</td>\n",
       "      <td>auto(av)</td>\n",
       "      <td>f</td>\n",
       "      <td>21</td>\n",
       "      <td>30</td>\n",
       "      <td>p</td>\n",
       "      <td>compact</td>\n",
       "    </tr>\n",
       "    <tr>\n",
       "      <th>5</th>\n",
       "      <td>audi</td>\n",
       "      <td>a4</td>\n",
       "      <td>2.8</td>\n",
       "      <td>1999</td>\n",
       "      <td>6</td>\n",
       "      <td>auto(l5)</td>\n",
       "      <td>f</td>\n",
       "      <td>16</td>\n",
       "      <td>26</td>\n",
       "      <td>p</td>\n",
       "      <td>compact</td>\n",
       "    </tr>\n",
       "  </tbody>\n",
       "</table>\n",
       "</div>"
      ],
      "text/plain": [
       "  manufacturer model  displ  year  cyl       trans drv  cty  hwy fl    class\n",
       "1         audi    a4    1.8  1999    4    auto(l5)   f   18   29  p  compact\n",
       "2         audi    a4    1.8  1999    4  manual(m5)   f   21   29  p  compact\n",
       "3         audi    a4    2.0  2008    4  manual(m6)   f   20   31  p  compact\n",
       "4         audi    a4    2.0  2008    4    auto(av)   f   21   30  p  compact\n",
       "5         audi    a4    2.8  1999    6    auto(l5)   f   16   26  p  compact"
      ]
     },
     "execution_count": 25,
     "metadata": {},
     "output_type": "execute_result"
    }
   ],
   "source": [
    "mpg.head()"
   ]
  },
  {
   "cell_type": "code",
   "execution_count": 33,
   "id": "561d403d",
   "metadata": {},
   "outputs": [
    {
     "data": {
      "text/plain": [
       "f    106\n",
       "4    103\n",
       "r     25\n",
       "Name: drv, dtype: int64"
      ]
     },
     "execution_count": 33,
     "metadata": {},
     "output_type": "execute_result"
    }
   ],
   "source": [
    "mpg.drv.value_counts()"
   ]
  },
  {
   "cell_type": "markdown",
   "id": "596434e6",
   "metadata": {},
   "source": [
    "Form hypothesis:\n",
    "\n",
    "<strong>H<sub>0</sub>:</strong> The number of cylinders in a vehicle is independent from drive type.\n",
    "\n",
    "<strong>H<sub>a</sub>:</strong> The number of cylinders in a vehicle is NOT independent from drive type."
   ]
  },
  {
   "cell_type": "code",
   "execution_count": 45,
   "id": "b12504ad",
   "metadata": {},
   "outputs": [
    {
     "data": {
      "text/html": [
       "<div>\n",
       "<style scoped>\n",
       "    .dataframe tbody tr th:only-of-type {\n",
       "        vertical-align: middle;\n",
       "    }\n",
       "\n",
       "    .dataframe tbody tr th {\n",
       "        vertical-align: top;\n",
       "    }\n",
       "\n",
       "    .dataframe thead th {\n",
       "        text-align: right;\n",
       "    }\n",
       "</style>\n",
       "<table border=\"1\" class=\"dataframe\">\n",
       "  <thead>\n",
       "    <tr style=\"text-align: right;\">\n",
       "      <th>drv</th>\n",
       "      <th>4</th>\n",
       "      <th>f</th>\n",
       "      <th>r</th>\n",
       "    </tr>\n",
       "    <tr>\n",
       "      <th>cyl</th>\n",
       "      <th></th>\n",
       "      <th></th>\n",
       "      <th></th>\n",
       "    </tr>\n",
       "  </thead>\n",
       "  <tbody>\n",
       "    <tr>\n",
       "      <th>4</th>\n",
       "      <td>23</td>\n",
       "      <td>58</td>\n",
       "      <td>0</td>\n",
       "    </tr>\n",
       "    <tr>\n",
       "      <th>5</th>\n",
       "      <td>0</td>\n",
       "      <td>4</td>\n",
       "      <td>0</td>\n",
       "    </tr>\n",
       "    <tr>\n",
       "      <th>6</th>\n",
       "      <td>32</td>\n",
       "      <td>43</td>\n",
       "      <td>4</td>\n",
       "    </tr>\n",
       "    <tr>\n",
       "      <th>8</th>\n",
       "      <td>48</td>\n",
       "      <td>1</td>\n",
       "      <td>21</td>\n",
       "    </tr>\n",
       "  </tbody>\n",
       "</table>\n",
       "</div>"
      ],
      "text/plain": [
       "drv   4   f   r\n",
       "cyl            \n",
       "4    23  58   0\n",
       "5     0   4   0\n",
       "6    32  43   4\n",
       "8    48   1  21"
      ]
     },
     "execution_count": 45,
     "metadata": {},
     "output_type": "execute_result"
    }
   ],
   "source": [
    "# I'm not sure if this is okay. We didn't discuss in class more than 2x2\n",
    "observed = pd.crosstab(mpg.cyl, mpg.drv)\n",
    "observed"
   ]
  },
  {
   "cell_type": "code",
   "execution_count": 47,
   "id": "4f915e77",
   "metadata": {},
   "outputs": [
    {
     "name": "stdout",
     "output_type": "stream",
     "text": [
      "Observed\n",
      "\n",
      "[[23 58  0]\n",
      " [ 0  4  0]\n",
      " [32 43  4]\n",
      " [48  1 21]]\n",
      "---\n",
      "Expected\n",
      "\n",
      "[[35 36  8]\n",
      " [ 1  1  0]\n",
      " [34 35  8]\n",
      " [30 31  7]]\n",
      "---\n",
      "\n",
      "chi^2 = 98.1355\n",
      "p     = 0.0000\n",
      "\u001b[92mWe reject the null hypothesis\u001b[0m\n"
     ]
    }
   ],
   "source": [
    "# Now for scipy to work it's magic~\n",
    "chi2, p, degf, expected = stats.chi2_contingency(observed)\n",
    "\n",
    "print('Observed\\n')\n",
    "print(observed.values)\n",
    "print('---\\nExpected\\n')\n",
    "print(expected.astype(int))\n",
    "print('---\\n')\n",
    "print(f'chi^2 = {chi2:.4f}')\n",
    "print(f'p     = {p:.4f}')\n",
    "if p < alpha:\n",
    "    print(bcolors.OKGREEN + \"We reject the null hypothesis\" + bcolors.ENDC)\n",
    "\n",
    "else:\n",
    "    print(bcolors.FAIL + \"We fail to reject the null hypothesis\" + bcolors.ENDC)\n",
    "\n",
    "#Chi is very high. Make sure to discuss with instructor"
   ]
  },
  {
   "cell_type": "markdown",
   "id": "2fea996c",
   "metadata": {},
   "source": [
    "### 3. Use the data from the employees database to answer these questions:\n",
    "\n"
   ]
  },
  {
   "cell_type": "code",
   "execution_count": 35,
   "id": "3a79dff7",
   "metadata": {},
   "outputs": [],
   "source": [
    "employees = pd.read_sql(\"\"\" SELECT *\n",
    "                            FROM employees\n",
    "                            JOIN dept_emp using (emp_no) \n",
    "                            JOIN departments using (dept_no)\n",
    "                            WHERE dept_emp.to_date > NOW();\"\"\" , \n",
    "                            get_db_url(\"employees\")\n",
    "                       )"
   ]
  },
  {
   "cell_type": "markdown",
   "id": "5acf93b4",
   "metadata": {},
   "source": [
    "### Is an employee's gender independent of whether an employee works in sales or marketing? (only look at current employees)\n"
   ]
  },
  {
   "cell_type": "markdown",
   "id": "3427e175",
   "metadata": {},
   "source": [
    "Form hypothesis:\n",
    "\n",
    "<strong>H<sub>0</sub>:</strong> There is no association between employee gender and whether an employee works in sales or marketing.\n",
    "\n",
    "<strong>H<sub>a</sub>:</strong> There is an association between employee gender and whether an employee works in sales or marketing."
   ]
  },
  {
   "cell_type": "code",
   "execution_count": 40,
   "id": "bef578cf",
   "metadata": {},
   "outputs": [],
   "source": [
    "# I'm gonna start by only looking at the departments I want, Sales and Marketing\n",
    "sales_n_marketing= employees[employees.dept_name.isin([\"Sales\",\"Marketing\"])]\n"
   ]
  },
  {
   "cell_type": "code",
   "execution_count": 41,
   "id": "8d9304db",
   "metadata": {},
   "outputs": [
    {
     "data": {
      "text/html": [
       "<div>\n",
       "<style scoped>\n",
       "    .dataframe tbody tr th:only-of-type {\n",
       "        vertical-align: middle;\n",
       "    }\n",
       "\n",
       "    .dataframe tbody tr th {\n",
       "        vertical-align: top;\n",
       "    }\n",
       "\n",
       "    .dataframe thead th {\n",
       "        text-align: right;\n",
       "    }\n",
       "</style>\n",
       "<table border=\"1\" class=\"dataframe\">\n",
       "  <thead>\n",
       "    <tr style=\"text-align: right;\">\n",
       "      <th>dept_name</th>\n",
       "      <th>Marketing</th>\n",
       "      <th>Sales</th>\n",
       "    </tr>\n",
       "    <tr>\n",
       "      <th>gender</th>\n",
       "      <th></th>\n",
       "      <th></th>\n",
       "    </tr>\n",
       "  </thead>\n",
       "  <tbody>\n",
       "    <tr>\n",
       "      <th>F</th>\n",
       "      <td>5864</td>\n",
       "      <td>14999</td>\n",
       "    </tr>\n",
       "    <tr>\n",
       "      <th>M</th>\n",
       "      <td>8978</td>\n",
       "      <td>22702</td>\n",
       "    </tr>\n",
       "  </tbody>\n",
       "</table>\n",
       "</div>"
      ],
      "text/plain": [
       "dept_name  Marketing  Sales\n",
       "gender                     \n",
       "F               5864  14999\n",
       "M               8978  22702"
      ]
     },
     "execution_count": 41,
     "metadata": {},
     "output_type": "execute_result"
    }
   ],
   "source": [
    "# Then I'm gonna check to make sure my crosstab looks appropriate\n",
    "observed = pd.crosstab(sales_n_marketing.gender , sales_n_marketing.dept_name)\n",
    "observed\n"
   ]
  },
  {
   "cell_type": "code",
   "execution_count": 44,
   "id": "5f9a56ba",
   "metadata": {
    "scrolled": true
   },
   "outputs": [
    {
     "name": "stdout",
     "output_type": "stream",
     "text": [
      "Observed\n",
      "\n",
      "[[ 5864 14999]\n",
      " [ 8978 22702]]\n",
      "---\n",
      "Expected\n",
      "\n",
      "[[ 5893 14969]\n",
      " [ 8948 22731]]\n",
      "---\n",
      "\n",
      "chi^2 = 0.3240\n",
      "p     = 0.5692\n",
      "\u001b[91mWe fail to reject the null hypothesis\u001b[0m\n"
     ]
    }
   ],
   "source": [
    "# Now for scipy to work it's magic~\n",
    "chi2, p, degf, expected = stats.chi2_contingency(observed)\n",
    "\n",
    "print('Observed\\n')\n",
    "print(observed.values)\n",
    "print('---\\nExpected\\n')\n",
    "print(expected.astype(int))\n",
    "print('---\\n')\n",
    "print(f'chi^2 = {chi2:.4f}')\n",
    "print(f'p     = {p:.4f}')\n",
    "if p < alpha:\n",
    "    print(bcolors.OKGREEN + \"We reject the null hypothesis\" + bcolors.ENDC)\n",
    "\n",
    "else:\n",
    "    print(bcolors.FAIL + \"We fail to reject the null hypothesis\" + bcolors.ENDC)\n"
   ]
  },
  {
   "cell_type": "markdown",
   "id": "ab384fd3",
   "metadata": {},
   "source": [
    "### Is an employee's gender independent of whether or not they are or have been a manager?"
   ]
  },
  {
   "cell_type": "markdown",
   "id": "1c24e33b",
   "metadata": {},
   "source": [
    "Form Hypothesis:\n",
    "\n",
    "<strong>H<sub>0</sub>:</strong> There is no association between employee gender and whether or not they are or have been a manager.\n",
    "\n",
    "<strong>H<sub>0</sub>:</strong> There is an association between employee gender and whether or not they are or have been a manager."
   ]
  },
  {
   "cell_type": "code",
   "execution_count": 48,
   "id": "4843a8c8",
   "metadata": {},
   "outputs": [],
   "source": [
    "managers = pd.read_sql(\"\"\"  SELECT *\n",
    "                            FROM employees\n",
    "                            LEFT JOIN dept_manager using (emp_no)\"\"\" , \n",
    "                            get_db_url(\"employees\")\n",
    "                       )"
   ]
  },
  {
   "cell_type": "code",
   "execution_count": 49,
   "id": "71169a03",
   "metadata": {},
   "outputs": [
    {
     "data": {
      "text/html": [
       "<div>\n",
       "<style scoped>\n",
       "    .dataframe tbody tr th:only-of-type {\n",
       "        vertical-align: middle;\n",
       "    }\n",
       "\n",
       "    .dataframe tbody tr th {\n",
       "        vertical-align: top;\n",
       "    }\n",
       "\n",
       "    .dataframe thead th {\n",
       "        text-align: right;\n",
       "    }\n",
       "</style>\n",
       "<table border=\"1\" class=\"dataframe\">\n",
       "  <thead>\n",
       "    <tr style=\"text-align: right;\">\n",
       "      <th></th>\n",
       "      <th>emp_no</th>\n",
       "      <th>birth_date</th>\n",
       "      <th>first_name</th>\n",
       "      <th>last_name</th>\n",
       "      <th>gender</th>\n",
       "      <th>hire_date</th>\n",
       "      <th>dept_no</th>\n",
       "      <th>from_date</th>\n",
       "      <th>to_date</th>\n",
       "    </tr>\n",
       "  </thead>\n",
       "  <tbody>\n",
       "    <tr>\n",
       "      <th>0</th>\n",
       "      <td>10001</td>\n",
       "      <td>1953-09-02</td>\n",
       "      <td>Georgi</td>\n",
       "      <td>Facello</td>\n",
       "      <td>M</td>\n",
       "      <td>1986-06-26</td>\n",
       "      <td>None</td>\n",
       "      <td>None</td>\n",
       "      <td>None</td>\n",
       "    </tr>\n",
       "    <tr>\n",
       "      <th>1</th>\n",
       "      <td>10002</td>\n",
       "      <td>1964-06-02</td>\n",
       "      <td>Bezalel</td>\n",
       "      <td>Simmel</td>\n",
       "      <td>F</td>\n",
       "      <td>1985-11-21</td>\n",
       "      <td>None</td>\n",
       "      <td>None</td>\n",
       "      <td>None</td>\n",
       "    </tr>\n",
       "    <tr>\n",
       "      <th>2</th>\n",
       "      <td>10003</td>\n",
       "      <td>1959-12-03</td>\n",
       "      <td>Parto</td>\n",
       "      <td>Bamford</td>\n",
       "      <td>M</td>\n",
       "      <td>1986-08-28</td>\n",
       "      <td>None</td>\n",
       "      <td>None</td>\n",
       "      <td>None</td>\n",
       "    </tr>\n",
       "    <tr>\n",
       "      <th>3</th>\n",
       "      <td>10004</td>\n",
       "      <td>1954-05-01</td>\n",
       "      <td>Chirstian</td>\n",
       "      <td>Koblick</td>\n",
       "      <td>M</td>\n",
       "      <td>1986-12-01</td>\n",
       "      <td>None</td>\n",
       "      <td>None</td>\n",
       "      <td>None</td>\n",
       "    </tr>\n",
       "    <tr>\n",
       "      <th>4</th>\n",
       "      <td>10005</td>\n",
       "      <td>1955-01-21</td>\n",
       "      <td>Kyoichi</td>\n",
       "      <td>Maliniak</td>\n",
       "      <td>M</td>\n",
       "      <td>1989-09-12</td>\n",
       "      <td>None</td>\n",
       "      <td>None</td>\n",
       "      <td>None</td>\n",
       "    </tr>\n",
       "  </tbody>\n",
       "</table>\n",
       "</div>"
      ],
      "text/plain": [
       "   emp_no  birth_date first_name last_name gender   hire_date dept_no  \\\n",
       "0   10001  1953-09-02     Georgi   Facello      M  1986-06-26    None   \n",
       "1   10002  1964-06-02    Bezalel    Simmel      F  1985-11-21    None   \n",
       "2   10003  1959-12-03      Parto   Bamford      M  1986-08-28    None   \n",
       "3   10004  1954-05-01  Chirstian   Koblick      M  1986-12-01    None   \n",
       "4   10005  1955-01-21    Kyoichi  Maliniak      M  1989-09-12    None   \n",
       "\n",
       "  from_date to_date  \n",
       "0      None    None  \n",
       "1      None    None  \n",
       "2      None    None  \n",
       "3      None    None  \n",
       "4      None    None  "
      ]
     },
     "execution_count": 49,
     "metadata": {},
     "output_type": "execute_result"
    }
   ],
   "source": [
    "# Make an is_manager column\n",
    "managers.head()"
   ]
  },
  {
   "cell_type": "code",
   "execution_count": null,
   "id": "37f56f41",
   "metadata": {},
   "outputs": [],
   "source": [
    "observed = pd.crosstab(managers.gender, managers.to_date.astype(str).str.startswith(\"9999\"))\n",
    "observed"
   ]
  },
  {
   "cell_type": "code",
   "execution_count": null,
   "id": "46a8591b",
   "metadata": {},
   "outputs": [],
   "source": [
    "managers.to_date.astype(str).str.startswith(\"9999\")"
   ]
  },
  {
   "cell_type": "code",
   "execution_count": null,
   "id": "f9b01d2e",
   "metadata": {},
   "outputs": [],
   "source": []
  }
 ],
 "metadata": {
  "kernelspec": {
   "display_name": "Python 3",
   "language": "python",
   "name": "python3"
  },
  "language_info": {
   "codemirror_mode": {
    "name": "ipython",
    "version": 3
   },
   "file_extension": ".py",
   "mimetype": "text/x-python",
   "name": "python",
   "nbconvert_exporter": "python",
   "pygments_lexer": "ipython3",
   "version": "3.8.8"
  }
 },
 "nbformat": 4,
 "nbformat_minor": 5
}
