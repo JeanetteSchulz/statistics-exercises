{
 "cells": [
  {
   "cell_type": "markdown",
   "id": "37f48176",
   "metadata": {},
   "source": [
    "# Hypothesis Testing Exercise\n",
    "\n",
    "### For each of the following questions, formulate a null and alternative hypothesis (be as specific as you can be), then give an example of what a true positive, true negative, type I and type II errors would look like. Note that some of the questions are intentionally phrased in a vague way. It is your job to reword these as more precise questions that could be tested.\n"
   ]
  },
  {
   "cell_type": "markdown",
   "id": "b539ef11",
   "metadata": {},
   "source": [
    "<strong>Note:</strong>\n",
    "Remember the photo where we predicted if it was a cat or not.\n",
    "\n",
    "H<sub>0</sub>: The photo is a cat.\n",
    "\n",
    "<span style=\"color:green\">The Photo is of a dog and the prediction is that it's not a cat.</span>\n",
    "\n",
    "True Positive: H<sub>0</sub> is False, reject H<sub>0</sub>\n",
    "\n",
    "<span style=\"color:green\">The Photo is of a cat and the prediction is that it's a cat.</span>\n",
    "\n",
    "True Negative: H<sub>0</sub> is True, accept the H<sub>0</sub>\n",
    "\n",
    "<span style=\"color:red\">The Photo is of a cat and the prediction is that it's not a cat.</span>\n",
    "\n",
    "False Positive - Type I: H<sub>0</sub> is True , reject H<sub>0</sub> (reject null when null is true)\n",
    "\n",
    "<span style=\"color:red\">The Photo is of a dog and the prediction is that it's a cat.</span>\n",
    "\n",
    "False Negative - Type II: H<sub>0</sub> is False, accept H<sub>0</sub>"
   ]
  },
  {
   "cell_type": "markdown",
   "id": "71c6ffe5",
   "metadata": {},
   "source": [
    "### Has the network latency gone up since we switched internet service providers?"
   ]
  },
  {
   "cell_type": "markdown",
   "id": "b46c0d23",
   "metadata": {},
   "source": [
    "<span style=\"color:gray\">\n",
    "<strong>H<sub>0</sub>:</strong> There is no change in latency since switching internet service providers.\n",
    "\n",
    "<strong>H<sub>A</sub>:</strong> There is and increase in latency since switching internet service providers.\n",
    "\n",
    "<strong>True Positive:</strong> There is <strong>no change</strong> in latency, H<sub>0</sub> is <strong>accepted</strong>.\n",
    "\n",
    "<strong>True Negative:</strong> There <strong>is</strong> a change in latency, H<sub>0</sub> is <strong>rejected</strong>.\n",
    "\n",
    "<strong>Type I:</strong> There is <strong>no change</strong> in latency, but H<sub>0</sub> was <strong>rejected</strong>.\n",
    "\n",
    "<strong>Type II:</strong> There <strong>is</strong> a change in latency, but H<sub>0</sub> is <strong>accepted</strong>.\n",
    "</span>"
   ]
  },
  {
   "cell_type": "markdown",
   "id": "d9d7b04c",
   "metadata": {},
   "source": [
    "### Is the website redesign any good?"
   ]
  },
  {
   "cell_type": "markdown",
   "id": "994a15ef",
   "metadata": {},
   "source": [
    "<span style=\"color:gray\">\n",
    "<strong>H<sub>0</sub>:</strong>  There is no change in website sales after the redesign.\n",
    "\n",
    "<strong>H<sub>A</sub>:</strong> There is an decrease in website sales since the redesign.\n",
    "\n",
    "<strong>True Positive:</strong> There is <strong>no change</strong> in website sales, H<sub>0</sub> is <strong>accepted</strong>.\n",
    "\n",
    "<strong>True Negative:</strong> There is an <strong>decrease</strong> in website sales, H<sub>0</sub> is <strong>rejected</strong>.\n",
    "\n",
    "<strong>Type I:</strong> There is <strong>no change</strong> in website sales, but H<sub>0</sub> was <strong>rejected</strong>.\n",
    "\n",
    "<strong>Type II:</strong> There is an <strong>decrease</strong> in website sales, but H<sub>0</sub> is <strong>accepted</strong>.\n",
    "</span>"
   ]
  },
  {
   "cell_type": "markdown",
   "id": "641a9811",
   "metadata": {},
   "source": [
    "### Is our television ad driving more sales?"
   ]
  },
  {
   "cell_type": "markdown",
   "id": "19ef1f37",
   "metadata": {},
   "source": [
    "<span style=\"color:gray\">\n",
    "<strong>H<sub>0</sub>:</strong>  There is no difference in sales since the television ad aired.\n",
    "\n",
    "<strong>H<sub>A</sub>:</strong>  There is an increase in sales since the television ad aired.\n",
    "\n",
    "<strong>True Positive:</strong> There is <strong>no change</strong> in sales since the TV ad aired, H<sub>0</sub> is <strong>accepted</strong>.\n",
    "\n",
    "<strong>True Negative:</strong> There is an <strong>increase</strong> in sales since the TV ad aired, H<sub>0</sub> is <strong>rejected</strong>.\n",
    "\n",
    "<strong>Type I:</strong> There is <strong>no change</strong> in sales since the TV ad aired, but H<sub>0</sub> was <strong>rejected</strong>.\n",
    "\n",
    "<strong>Type II:</strong> There is an <strong>increase</strong> in sales since the TV ad aired, but H<sub>0</sub> is <strong>accepted</strong>.\n",
    "</span>"
   ]
  },
  {
   "cell_type": "code",
   "execution_count": 1,
   "id": "c64db813",
   "metadata": {},
   "outputs": [],
   "source": [
    "import numpy as np\n",
    "import seaborn as sns\n",
    "import scipy.stats as stats\n",
    "import pandas as pd\n",
    "import matplotlib.pyplot as plt\n",
    "from math import sqrt\n",
    "from pydataset import data"
   ]
  },
  {
   "cell_type": "markdown",
   "id": "bb2a53fd",
   "metadata": {},
   "source": [
    "### Ace Realty wants to determine whether the average time it takes to sell homes is different for its two offices. A sample of 40 sales from office #1 revealed a mean of 90 days and a standard deviation of 15 days. A sample of 50 sales from office #2 revealed a mean of 100 days and a standard deviation of 20 days. Use a .05 level of significance."
   ]
  },
  {
   "cell_type": "code",
   "execution_count": 2,
   "id": "472d6fd5",
   "metadata": {},
   "outputs": [
    {
     "name": "stdout",
     "output_type": "stream",
     "text": [
      "We reject the null hypothesis\n"
     ]
    }
   ],
   "source": [
    "# Office1: 40 sales, mean: 90 days, std: 15 days\n",
    "# Office2: 50 sales, mean: 100 days, std: 20\n",
    "\n",
    "alpha= 0.05\n",
    "\n",
    "# H0: There is no difference in the time taken to sell homes between the two offices.\n",
    "# Ha: There is a difference in the time taken to sell homes between the two offices.\n",
    "\n",
    "# So this will be a two tailed test since we are looking for any difference.\n",
    "# This is two samples from the same company, so I will use a 2-sample T-test\n",
    "# scipy.stats.ttest_ind_from_stats(mean1, std1, nobs1, mean2, std2, nobs2, equal_var=True, alternative='two-sided')\n",
    "\n",
    "office_compare = stats.ttest_ind_from_stats(90, 15, 40, 100, 20, 50, equal_var= False, alternative='two-sided')\n",
    "\n",
    "p = office_compare[1]\n",
    "\n",
    "if p < alpha:\n",
    "    print(\"We reject the null hypothesis\")\n",
    "else:\n",
    "    print(\"We fail to reject the null hypothesis\")"
   ]
  },
  {
   "cell_type": "code",
   "execution_count": 3,
   "id": "17929e6c",
   "metadata": {},
   "outputs": [
    {
     "data": {
      "text/plain": [
       "(-2.5002395075159565, 1.9857356739166472)"
      ]
     },
     "execution_count": 3,
     "metadata": {},
     "output_type": "execute_result"
    }
   ],
   "source": [
    "# The long way...\n",
    "# Create my arrays\n",
    "office1 = np.random.normal(90, 15, 40)\n",
    "office2 = np.random.normal(100, 20, 50)\n",
    "\n",
    "\n",
    "xbar1 = office1.mean()\n",
    "xbar2 = office2.mean()\n",
    "\n",
    "n1 = office1.size\n",
    "n2 = office2.size\n",
    "\n",
    "s1 = office1.std()\n",
    "s2 = office2.std()\n",
    "\n",
    "degf = n1 + n2 - 2\n",
    "\n",
    "s_p = sqrt(((n1 - 1) * s1**2 + (n2 - 1) * s2**2) / (n1 + n2 - 2))\n",
    "s_p\n",
    "\n",
    "standard_error = se = sqrt(s1**2 / n1 + s2**2 / n2)\n",
    "\n",
    "t = (xbar1 - xbar2) / (s_p * sqrt(1/n1 + 1/n2))\n",
    "\n",
    "p = stats.t(degf).sf(t) * 2 # *2 for two-tailed test\n",
    "t , p"
   ]
  },
  {
   "cell_type": "markdown",
   "id": "4bb885c5",
   "metadata": {},
   "source": [
    "### Load the mpg dataset and use it to answer the following questions:\n",
    "\n",
    "### Is there a difference in fuel-efficiency in cars from 2008 vs 1999?"
   ]
  },
  {
   "cell_type": "code",
   "execution_count": 4,
   "id": "6c685ff7",
   "metadata": {
    "scrolled": true
   },
   "outputs": [],
   "source": [
    "df = data('mpg')"
   ]
  },
  {
   "cell_type": "code",
   "execution_count": 5,
   "id": "8ef08e62",
   "metadata": {},
   "outputs": [],
   "source": [
    "# I'm gonna create a column for avg milage and use this to determine fuel-efficiency\n",
    "df = df.assign(avg_mileage = (df.hwy + df.cty) /2 )"
   ]
  },
  {
   "cell_type": "code",
   "execution_count": 6,
   "id": "34c9bb24",
   "metadata": {},
   "outputs": [
    {
     "name": "stdout",
     "output_type": "stream",
     "text": [
      "We fail to reject the null hypothesis\n"
     ]
    }
   ],
   "source": [
    "# Now to create my array's\n",
    "mileage_2008 = df[df.year == 2008].avg_mileage\n",
    "milage_1999 = df[df.year == 1999].avg_mileage\n",
    "\n",
    "# Check to see if variances are equal; they are not\n",
    "# mileage_2008.var() , milage_1999.var()\n",
    "\n",
    "# Define my hypothesis before testing:\n",
    "# H0: There is no difference in fuel-efficiency between cars from 2008 vs 1999.\n",
    "# Ha: There is a difference in fuel-efficiency between cars from 2008 vs 1999.\n",
    "\n",
    "# This is a two-sampled, two-tailed test. \n",
    "t, p = stats.ttest_ind(mileage_2008, milage_1999, equal_var=False)\n",
    "# t= -0.21960177245940962\n",
    "# p= 0.8263750772060638\n",
    "\n",
    "if p < alpha:\n",
    "    print(\"We reject the null hypothesis\")\n",
    "else:\n",
    "    print(\"We fail to reject the null hypothesis\")"
   ]
  },
  {
   "cell_type": "markdown",
   "id": "285d987c",
   "metadata": {},
   "source": [
    "### Are compact cars more fuel-efficient than the average car?"
   ]
  },
  {
   "cell_type": "code",
   "execution_count": 7,
   "id": "a49d3bea",
   "metadata": {},
   "outputs": [
    {
     "name": "stdout",
     "output_type": "stream",
     "text": [
      "We fail to reject the null hypothesis\n"
     ]
    }
   ],
   "source": [
    "# First to create my array's\n",
    "# The data set doesn't have an \"average\" class of car, but it does have \"midsize\" so I'll use that\n",
    "compact_mileage = df[df[\"class\"] == \"compact\"].avg_mileage\n",
    "midsize_milage = df[df[\"class\"] == \"midsize\"].avg_mileage\n",
    "\n",
    "# Check to see if variances are equal; they are not\n",
    "# compact_mileage.var() , midsize_milage.var()\n",
    "\n",
    "# Define my hypothesis before testing:\n",
    "# H0: There is no difference in fuel-efficiency between compact cars and midsize cars.\n",
    "# Ha: There is a difference in fuel-efficiency between compact cars and midsize cars.\n",
    "\n",
    "# This is a two-sampled, two-tailed test. \n",
    "t, p = stats.ttest_ind(compact_mileage, midsize_milage, equal_var=False)\n",
    "# t= 1.9869420198494934\n",
    "# p= 0.050653659390104896\n",
    "\n",
    "if p < alpha:\n",
    "    print(\"We reject the null hypothesis\")\n",
    "else:\n",
    "    print(\"We fail to reject the null hypothesis\")"
   ]
  },
  {
   "cell_type": "markdown",
   "id": "cf6c296f",
   "metadata": {},
   "source": [
    "### Do manual cars get better gas mileage than automatic cars?"
   ]
  },
  {
   "cell_type": "code",
   "execution_count": 8,
   "id": "e7fd6698",
   "metadata": {},
   "outputs": [
    {
     "name": "stdout",
     "output_type": "stream",
     "text": [
      "We reject the null hypothesis\n"
     ]
    }
   ],
   "source": [
    "# Creating my array's\n",
    "automatic_milage = df[df.trans.str.startswith(\"a\")].avg_mileage\n",
    "manual_milage = df[df.trans.str.startswith(\"m\")].avg_mileage\n",
    "\n",
    "# Check to see if variances are equal; they are not\n",
    "# automatic_milage.var() , manual_milage.var()\n",
    "\n",
    "# Define my hypothesis before testing:\n",
    "# H0: Manual cars get <= gas mileage than automatic cars.\n",
    "# Ha: Manual cars get > gas mileage than automatic cars.\n",
    "\n",
    "# This is a two-sampled, one-tailed test (only want to know if > gas mileage) \n",
    "t, p = stats.ttest_ind(manual_milage, automatic_milage, equal_var=False)\n",
    "t, p/2, alpha\n",
    "# t= 4.443514012903071\n",
    "# p/2= 8.976124499958965e-06\n",
    "\n",
    "# For two-tailed tests we don't seem to check the T. However, in one-tailed tests, we see if t is > or < 0. \n",
    "# The direction of the equality sign for t looks to be determined by our Ha hypothesis. \n",
    "if (p/2 < alpha) & (t > 0):\n",
    "    print(\"We reject the null hypothesis\")\n",
    "else:\n",
    "    print(\"We fail to reject the null hypothesis\")"
   ]
  },
  {
   "cell_type": "code",
   "execution_count": null,
   "id": "6479e9d6",
   "metadata": {},
   "outputs": [],
   "source": []
  }
 ],
 "metadata": {
  "kernelspec": {
   "display_name": "Python 3",
   "language": "python",
   "name": "python3"
  },
  "language_info": {
   "codemirror_mode": {
    "name": "ipython",
    "version": 3
   },
   "file_extension": ".py",
   "mimetype": "text/x-python",
   "name": "python",
   "nbconvert_exporter": "python",
   "pygments_lexer": "ipython3",
   "version": "3.8.8"
  }
 },
 "nbformat": 4,
 "nbformat_minor": 5
}
