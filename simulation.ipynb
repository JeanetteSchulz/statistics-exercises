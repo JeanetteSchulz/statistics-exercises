{
 "cells": [
  {
   "cell_type": "markdown",
   "id": "f920e9af",
   "metadata": {},
   "source": [
    "# Simulation Exercises\n",
    "\n",
    "Practicing Statistics with Python"
   ]
  },
  {
   "cell_type": "code",
   "execution_count": 5,
   "id": "50b512ff",
   "metadata": {},
   "outputs": [],
   "source": [
    "import numpy as np\n",
    "import pandas as pd\n",
    "\n",
    "\n",
    "np.random.seed(22)"
   ]
  },
  {
   "cell_type": "code",
   "execution_count": 2,
   "id": "27715ed7",
   "metadata": {},
   "outputs": [
    {
     "data": {
      "text/plain": [
       "6"
      ]
     },
     "execution_count": 2,
     "metadata": {},
     "output_type": "execute_result"
    }
   ],
   "source": [
    "#rolling a die example\n",
    "np.random.choice([1,2,3,4,5,6])"
   ]
  },
  {
   "cell_type": "markdown",
   "id": "36d23f3c",
   "metadata": {},
   "source": [
    "### 1. How likely is it that you roll doubles when rolling two dice?\n",
    "\n"
   ]
  },
  {
   "cell_type": "code",
   "execution_count": 15,
   "id": "ce21654b",
   "metadata": {},
   "outputs": [
    {
     "data": {
      "text/plain": [
       "0.1674"
      ]
     },
     "execution_count": 15,
     "metadata": {},
     "output_type": "execute_result"
    }
   ],
   "source": [
    "# First to set up our variables. I want to roll 2 dice 10_000 times\n",
    "n_trials = nrows = 10_000\n",
    "n_dice = ncols = 2\n",
    "\n",
    "# Now to create my random rolls\n",
    "rolls = np.random.choice([1,2,3,4,5,6], n_trials * n_dice).reshape(nrows,ncols)\n",
    "\n",
    "# I want to create a data frame with these rolls so they will be easier to compare\n",
    "rolls = pd.DataFrame(rolls, columns=[\"first_die\", \"second_die\"])\n",
    "\n",
    "# Comparing die one to die two to see if they are the same\n",
    "# then taking that array of bools and finding its mean to find the Probability!\n",
    "# This works because True = 1 and False = 0 , so by finding the mean of the list, it adds all the 1's and then \n",
    "# finds the mean\n",
    "doubles = rolls.first_die == rolls.second_die\n",
    "doubles.mean()"
   ]
  },
  {
   "cell_type": "code",
   "execution_count": 16,
   "id": "d30919ba",
   "metadata": {},
   "outputs": [
    {
     "data": {
      "text/plain": [
       "0.163"
      ]
     },
     "execution_count": 16,
     "metadata": {},
     "output_type": "execute_result"
    }
   ],
   "source": [
    "#instructor solution\n",
    "die1 = np.random.choice([1,2,3,4,5,6] , 10_000)\n",
    "die2 = np.random.choice([1,2,3,4,5,6] , 10_000)\n",
    "\n",
    "samesies = die1 == die2\n",
    "samesies.mean()"
   ]
  },
  {
   "cell_type": "code",
   "execution_count": null,
   "id": "c5963f89",
   "metadata": {},
   "outputs": [],
   "source": [
    "#instructor solution with Lambda\n",
    "odds_of_doubles = df.apply(lambda row: row.values[0] == row.values[1])"
   ]
  },
  {
   "cell_type": "markdown",
   "id": "4422e0da",
   "metadata": {},
   "source": [
    "### 2. If you flip 8 coins, what is the probability of getting exactly 3 heads? What is the probability of getting more than 3 heads?"
   ]
  },
  {
   "cell_type": "code",
   "execution_count": 142,
   "id": "4a2d6330",
   "metadata": {
    "scrolled": true
   },
   "outputs": [
    {
     "data": {
      "text/plain": [
       "0.2171"
      ]
     },
     "execution_count": 142,
     "metadata": {},
     "output_type": "execute_result"
    }
   ],
   "source": [
    "coinflips = pd.DataFrame( \n",
    "                            np.random.choice([1, 0], 10_000 * 8).reshape(10_000,8) , \n",
    "                            columns = [\"one\",\"two\",\"three\",\"four\",\"five\",\"six\",\"seven\",\"eight\"]\n",
    "                        )\n",
    "coinflips[\"head_count\"] = coinflips.sum(1)\n",
    "threeheads = coinflips.head_count == 3\n",
    "threeheads.mean()"
   ]
  },
  {
   "cell_type": "markdown",
   "id": "8e6a63b0",
   "metadata": {},
   "source": [
    "### 3. There are approximitely 3 web development cohorts for every 1 data science cohort at Codeup. Assuming that Codeup randomly selects an alumni to put on a billboard, what are the odds that the two billboards I drive past both have data science students on them?"
   ]
  },
  {
   "cell_type": "code",
   "execution_count": 90,
   "id": "5db9a5c0",
   "metadata": {},
   "outputs": [
    {
     "data": {
      "text/plain": [
       "0.0631"
      ]
     },
     "execution_count": 90,
     "metadata": {},
     "output_type": "execute_result"
    }
   ],
   "source": [
    "# 3 web dev\n",
    "# 1 data science\n",
    "# 2 billboards\n",
    "\n",
    "n_trials = nrows = 10_000 # number of trials\n",
    "n_billboards = ncols = 2 # number of billboards\n",
    "\n",
    "# Creating my random chances, I have 3 web devs to 1 data science. \n",
    "# An array will be made of 10,000 chances, with what's on the 2 billboards\n",
    "alumni = np.random.choice([\"web dev\", \"web dev\",\"web dev\",\"data science\" ], n_trials * n_billboards).reshape(nrows,ncols)\n",
    "\n",
    "# Now to find my data scientists\n",
    "is_data_scientist = alumni == 'data science'\n",
    "\n",
    "# Finally, I count how many times 2 billboards both had data scientists on them and \n",
    "# divide by the amount of trials to find my percent chance!\n",
    "p_2DS_billboards = is_data_scientist[is_data_scientist.sum(1) == 2].shape[0] / n_trials\n",
    "\n",
    "p_2DS_billboards"
   ]
  },
  {
   "cell_type": "markdown",
   "id": "5815e0f2",
   "metadata": {},
   "source": [
    "### 4. Codeup students buy, on average, 3 poptart packages with a standard deviation of 1.5 a day from the snack vending machine. If on monday the machine is restocked with 17 poptart packages, how likely is it that I will be able to buy some poptarts on Friday afternoon? (Remember, if you have mean and standard deviation, use the np.random.normal)"
   ]
  },
  {
   "cell_type": "code",
   "execution_count": 115,
   "id": "c5a3580d",
   "metadata": {},
   "outputs": [
    {
     "data": {
      "text/plain": [
       "0.8815"
      ]
     },
     "execution_count": 115,
     "metadata": {},
     "output_type": "execute_result"
    }
   ],
   "source": [
    "#3 poptart packages\n",
    "# stdv 1.5\n",
    "# Monday 17 restock\n",
    "# chance of poptart on Friday afternoon\n",
    "# I'm going to assume students got to the poptarts first on Friday, so I'll include it in my poptarts calculations \n",
    "\n",
    "avg_poptarts = 3\n",
    "stdv_poptarts = 1.5\n",
    "ntrials = 10_000\n",
    "num_weekdays = 5\n",
    "\n",
    "# Creating my 10,000 weeks worth of daily poptart eating from Monday-Friday\n",
    "poptart_availability  = np.random.normal(avg_poptarts, stdv_poptarts, ntrials * num_weekdays).astype(int).reshape(ntrials, 5) \n",
    "\n",
    "# Where did we eat less than 17 poptarts between Mononday-Friday\n",
    "poptart_availability[poptart_availability.sum(1) < 17].shape[0]\n",
    "\n",
    "# Now to find the percent chance of getting a poptart on a Friday Afternoon\n",
    "# I'm taking the weeks that ate less than 17 poptarts in a week, and dividing it by the 10,000 total weeks\n",
    "p_Fri_poptart_availability = poptart_availability[poptart_availability.sum(1) < 17].shape[0] / ntrials\n",
    "\n",
    "p_Fri_poptart_availability"
   ]
  },
  {
   "cell_type": "markdown",
   "id": "7f0191c3",
   "metadata": {},
   "source": [
    "### 5. Compare Heights\n",
    "\n",
    "Men have an average height of 178 cm and standard deviation of 8cm.\n",
    "\n",
    "Women have a mean of 170, sd = 6cm.\n",
    "\n",
    "Since you have means and standard deviations, you can use np.random.normal to generate observations.\n",
    "\n",
    "### If a man and woman are chosen at random, P(woman taller than man)?"
   ]
  },
  {
   "cell_type": "code",
   "execution_count": 117,
   "id": "d8342459",
   "metadata": {},
   "outputs": [
    {
     "data": {
      "text/plain": [
       "0.2091"
      ]
     },
     "execution_count": 117,
     "metadata": {},
     "output_type": "execute_result"
    }
   ],
   "source": [
    "# First to create my sample set with the information listed above\n",
    "women_hts = np.random.normal(170, 6, 10_000)\n",
    "men_hts = np.random.normal(178, 8, 10_000)\n",
    "\n",
    "# Now to just compare the two genders, and find the mean of that boolean for my Percent Chance\n",
    "p_W_taller = women_hts > men_hts\n",
    "p_W_taller.mean()"
   ]
  },
  {
   "cell_type": "markdown",
   "id": "857c8f3c",
   "metadata": {},
   "source": [
    "### 6. When installing anaconda on a student's computer, there's a 1 in 250 chance that the download is corrupted and the installation fails. What are the odds that after having 50 students download anaconda, no one has an installation issue? 100 students?\n",
    "\n",
    "### What is the probability that we observe an installation issue within the first 150 students that download anaconda?"
   ]
  },
  {
   "cell_type": "code",
   "execution_count": 129,
   "id": "d0cefd1b",
   "metadata": {},
   "outputs": [
    {
     "data": {
      "text/plain": [
       "0.995914"
      ]
     },
     "execution_count": 129,
     "metadata": {},
     "output_type": "execute_result"
    }
   ],
   "source": [
    "## ALL WRONG! Try again\n",
    "\n",
    "p_corrupted = 1/250\n",
    "\n",
    "# Creating random data for 50 students with 10_000 trials\n",
    "n_students = 50\n",
    "n_trials= 10_000\n",
    "anaconda_corruption = np.random.random((n_students,n_trials))\n",
    "\n",
    "# Searching for when corruption DID NOT occur and getting the % chance\n",
    "no_corruption = anaconda_corruption > p_corrupted\n",
    "no_corruption.mean()  \n",
    "\n",
    "# instructor got 82% probability"
   ]
  },
  {
   "cell_type": "code",
   "execution_count": 130,
   "id": "b5b6e981",
   "metadata": {},
   "outputs": [
    {
     "data": {
      "text/plain": [
       "0.996012"
      ]
     },
     "execution_count": 130,
     "metadata": {},
     "output_type": "execute_result"
    }
   ],
   "source": [
    "# Creating random data for 100 students with 10_000 trials\n",
    "n_students = 100\n",
    "n_trials= 10_000\n",
    "anaconda_corruption = np.random.random((n_students,n_trials))\n",
    "\n",
    "# Searching for when corruption DID NOT occur and getting the % chance\n",
    "no_corruption = anaconda_corruption > p_corrupted\n",
    "no_corruption.mean()   \n",
    "\n",
    "# "
   ]
  },
  {
   "cell_type": "code",
   "execution_count": 131,
   "id": "e3cca7cd",
   "metadata": {},
   "outputs": [
    {
     "data": {
      "text/plain": [
       "0.003944"
      ]
     },
     "execution_count": 131,
     "metadata": {},
     "output_type": "execute_result"
    }
   ],
   "source": [
    "# Creating random data for 150 students with 10_000 trials\n",
    "n_students = 150\n",
    "n_trials= 10_000\n",
    "anaconda_corruption = np.random.random((n_students,n_trials))\n",
    "\n",
    "# Searching for when corruption DID NOT occur and getting the % chance\n",
    "corruption = anaconda_corruption < p_corrupted\n",
    "corruption.mean()                           "
   ]
  },
  {
   "cell_type": "markdown",
   "id": "dc984224",
   "metadata": {},
   "source": [
    "### 7. There's a 70% chance on any given day that there will be at least one food truck at Travis Park. However, you haven't seen a food truck there in 3 days. How unlikely is this?\n",
    "\n",
    "### How likely is it that a food truck will show up sometime this week?"
   ]
  },
  {
   "cell_type": "code",
   "execution_count": 140,
   "id": "dec11787",
   "metadata": {},
   "outputs": [
    {
     "data": {
      "text/plain": [
       "0.0262"
      ]
     },
     "execution_count": 140,
     "metadata": {},
     "output_type": "execute_result"
    }
   ],
   "source": [
    "p_foodTruck = 0.7\n",
    "n_days= 3\n",
    "n_trials= 10_000\n",
    "\n",
    "foodTruck = np.random.random((n_trials , n_days))\n",
    "\n",
    "# Looking at each of the three days to see if a truck showed up\n",
    "food_truck = foodTruck < p_foodTruck\n",
    "\n",
    "# Turning the boolean into an array of sums, where 0 is no trucks and 3 is a truck each day\n",
    "# then finding only the days where 0 trucks showed up in 3 days\n",
    "no_food_truck = food_truck.sum(1) == 0\n",
    "\n",
    "# Finally, finding the Possibility for (No Trucks for 3 Days)\n",
    "no_food_truck.mean()"
   ]
  },
  {
   "cell_type": "code",
   "execution_count": 141,
   "id": "5b75edd8",
   "metadata": {},
   "outputs": [
    {
     "data": {
      "text/plain": [
       "0.9929"
      ]
     },
     "execution_count": 141,
     "metadata": {},
     "output_type": "execute_result"
    }
   ],
   "source": [
    "# How likely is it that a food truck will show up sometime this week?\n",
    "# Assuming that I am looking for the Possibility after the first 3 days\n",
    "# I will be using days left in the week (4) for my random data generator \n",
    "n_days_left = 4\n",
    "\n",
    "# Making chances based on days left in the week. \n",
    "foodTruck = np.random.random((n_trials , n_days_left))\n",
    "\n",
    "# Looking at each of the four days to see if a truck showed up\n",
    "food_truck = foodTruck < p_foodTruck\n",
    "\n",
    "# Turning the boolean into an array of sums, where 0 is no trucks and 4 is a truck each day\n",
    "# then finding trials where any number of trucks showed up in the 4 days\n",
    "food_truck = food_truck.sum(1) > 0\n",
    "\n",
    "# Finally, finding the Possibility for (No Trucks for 3 Days)\n",
    "food_truck.mean()"
   ]
  },
  {
   "cell_type": "markdown",
   "id": "b05989ae",
   "metadata": {},
   "source": [
    "### 8. If 23 people are in the same room, what are the odds that two of them share a birthday? What if it's 20 people? 40?"
   ]
  },
  {
   "cell_type": "code",
   "execution_count": 151,
   "id": "397ec83b",
   "metadata": {},
   "outputs": [
    {
     "ename": "AttributeError",
     "evalue": "module 'pandas' has no attribute 'Dataframe'",
     "output_type": "error",
     "traceback": [
      "\u001b[0;31m---------------------------------------------------------------------------\u001b[0m",
      "\u001b[0;31mAttributeError\u001b[0m                            Traceback (most recent call last)",
      "\u001b[0;32m<ipython-input-151-2c0ee19316f5>\u001b[0m in \u001b[0;36m<module>\u001b[0;34m\u001b[0m\n\u001b[1;32m      3\u001b[0m \u001b[0;34m\u001b[0m\u001b[0m\n\u001b[1;32m      4\u001b[0m \u001b[0mbirthdays\u001b[0m \u001b[0;34m=\u001b[0m \u001b[0mnp\u001b[0m\u001b[0;34m.\u001b[0m\u001b[0mrandom\u001b[0m\u001b[0;34m.\u001b[0m\u001b[0muniform\u001b[0m\u001b[0;34m(\u001b[0m\u001b[0;36m1\u001b[0m \u001b[0;34m,\u001b[0m \u001b[0;36m365\u001b[0m \u001b[0;34m,\u001b[0m \u001b[0mntrials\u001b[0m \u001b[0;34m*\u001b[0m \u001b[0mn_people\u001b[0m\u001b[0;34m)\u001b[0m\u001b[0;34m.\u001b[0m\u001b[0mastype\u001b[0m\u001b[0;34m(\u001b[0m\u001b[0mint\u001b[0m\u001b[0;34m)\u001b[0m\u001b[0;34m.\u001b[0m\u001b[0mreshape\u001b[0m\u001b[0;34m(\u001b[0m\u001b[0mntrials\u001b[0m\u001b[0;34m,\u001b[0m\u001b[0mn_people\u001b[0m\u001b[0;34m)\u001b[0m\u001b[0;34m\u001b[0m\u001b[0;34m\u001b[0m\u001b[0m\n\u001b[0;32m----> 5\u001b[0;31m \u001b[0mbirthdays_df\u001b[0m \u001b[0;34m=\u001b[0m \u001b[0mpd\u001b[0m\u001b[0;34m.\u001b[0m\u001b[0mDataframe\u001b[0m\u001b[0;34m(\u001b[0m\u001b[0mbirthdays\u001b[0m\u001b[0;34m,\u001b[0m \u001b[0mcolumns\u001b[0m\u001b[0;34m=\u001b[0m \u001b[0mrange\u001b[0m\u001b[0;34m(\u001b[0m\u001b[0;36m1\u001b[0m\u001b[0;34m,\u001b[0m\u001b[0;36m24\u001b[0m\u001b[0;34m)\u001b[0m\u001b[0;34m)\u001b[0m\u001b[0;34m\u001b[0m\u001b[0;34m\u001b[0m\u001b[0m\n\u001b[0m\u001b[1;32m      6\u001b[0m \u001b[0mbirthdays_df\u001b[0m\u001b[0;34m\u001b[0m\u001b[0;34m\u001b[0m\u001b[0m\n",
      "\u001b[0;32m/usr/local/anaconda3/lib/python3.8/site-packages/pandas/__init__.py\u001b[0m in \u001b[0;36m__getattr__\u001b[0;34m(name)\u001b[0m\n\u001b[1;32m    242\u001b[0m         \u001b[0;32mreturn\u001b[0m \u001b[0m_SparseArray\u001b[0m\u001b[0;34m\u001b[0m\u001b[0;34m\u001b[0m\u001b[0m\n\u001b[1;32m    243\u001b[0m \u001b[0;34m\u001b[0m\u001b[0m\n\u001b[0;32m--> 244\u001b[0;31m     \u001b[0;32mraise\u001b[0m \u001b[0mAttributeError\u001b[0m\u001b[0;34m(\u001b[0m\u001b[0;34mf\"module 'pandas' has no attribute '{name}'\"\u001b[0m\u001b[0;34m)\u001b[0m\u001b[0;34m\u001b[0m\u001b[0;34m\u001b[0m\u001b[0m\n\u001b[0m\u001b[1;32m    245\u001b[0m \u001b[0;34m\u001b[0m\u001b[0m\n\u001b[1;32m    246\u001b[0m \u001b[0;34m\u001b[0m\u001b[0m\n",
      "\u001b[0;31mAttributeError\u001b[0m: module 'pandas' has no attribute 'Dataframe'"
     ]
    }
   ],
   "source": [
    "n_people = 23\n",
    "p_birthday= 1/365\n",
    "\n",
    "birthdays = np.random.uniform(1 , 365 , ntrials * n_people).astype(int).reshape(ntrials,n_people)\n"
   ]
  },
  {
   "cell_type": "code",
   "execution_count": null,
   "id": "be9188f5",
   "metadata": {},
   "outputs": [],
   "source": []
  }
 ],
 "metadata": {
  "kernelspec": {
   "display_name": "Python 3",
   "language": "python",
   "name": "python3"
  },
  "language_info": {
   "codemirror_mode": {
    "name": "ipython",
    "version": 3
   },
   "file_extension": ".py",
   "mimetype": "text/x-python",
   "name": "python",
   "nbconvert_exporter": "python",
   "pygments_lexer": "ipython3",
   "version": "3.8.8"
  }
 },
 "nbformat": 4,
 "nbformat_minor": 5
}
