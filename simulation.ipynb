{
 "cells": [
  {
   "cell_type": "markdown",
   "id": "1ff79769",
   "metadata": {},
   "source": [
    "Simulation\n",
    "\n",
    "Practicing Statistics with Python"
   ]
  },
  {
   "cell_type": "code",
   "execution_count": 5,
   "id": "f3fa9cf8",
   "metadata": {},
   "outputs": [],
   "source": [
    "%matplotlib inline\n",
    "import numpy as np\n",
    "import pandas as pd\n",
    "\n",
    "#import viz # curriculum example visualizations\n",
    "\n",
    "np.random.seed(22)"
   ]
  },
  {
   "cell_type": "code",
   "execution_count": 2,
   "id": "eeceb110",
   "metadata": {},
   "outputs": [
    {
     "data": {
      "text/plain": [
       "6"
      ]
     },
     "execution_count": 2,
     "metadata": {},
     "output_type": "execute_result"
    }
   ],
   "source": [
    "#rolling a die\n",
    "np.random.choice([1,2,3,4,5,6])"
   ]
  },
  {
   "cell_type": "code",
   "execution_count": 11,
   "id": "8bf100ce",
   "metadata": {},
   "outputs": [
    {
     "data": {
      "text/plain": [
       "array([[1, 5],\n",
       "       [1, 3],\n",
       "       [4, 1],\n",
       "       ...,\n",
       "       [5, 2],\n",
       "       [2, 3],\n",
       "       [1, 4]])"
      ]
     },
     "execution_count": 11,
     "metadata": {},
     "output_type": "execute_result"
    }
   ],
   "source": [
    "n_trials = nrows = 10_000\n",
    "n_dice = ncols = 2\n",
    "\n",
    "rolls = np.random.choice([1, 2, 3, 4, 5, 6], n_trials * n_dice).reshape(nrows, ncols)\n",
    "rolls"
   ]
  },
  {
   "cell_type": "markdown",
   "id": "b2a55e38",
   "metadata": {},
   "source": [
    "### 1. How likely is it that you roll doubles when rolling two dice?\n",
    "\n"
   ]
  },
  {
   "cell_type": "code",
   "execution_count": 15,
   "id": "e345fdc9",
   "metadata": {},
   "outputs": [
    {
     "data": {
      "text/plain": [
       "0.1674"
      ]
     },
     "execution_count": 15,
     "metadata": {},
     "output_type": "execute_result"
    }
   ],
   "source": [
    "n_trials = nrows = 10_000\n",
    "n_dice = ncols = 2\n",
    "\n",
    "rolls = np.random.choice([1,2,3,4,5,6], n_trials * n_dice).reshape(nrows,ncols)\n",
    "rolls = pd.DataFrame(rolls, columns=[\"first_die\", \"second_die\"])\n",
    "doubles = rolls.first_die == rolls.second_die\n",
    "doubles.mean()"
   ]
  },
  {
   "cell_type": "code",
   "execution_count": 16,
   "id": "ac9cd206",
   "metadata": {},
   "outputs": [
    {
     "data": {
      "text/plain": [
       "0.163"
      ]
     },
     "execution_count": 16,
     "metadata": {},
     "output_type": "execute_result"
    }
   ],
   "source": [
    "#instructor solution\n",
    "die1 = np.random.choice([1,2,3,4,5,6] , 10_000)\n",
    "die2 = np.random.choice([1,2,3,4,5,6] , 10_000)\n",
    "\n",
    "samesies = die1 == die2\n",
    "samesies.mean()"
   ]
  },
  {
   "cell_type": "markdown",
   "id": "713961d2",
   "metadata": {},
   "source": [
    "### 2. If you flip 8 coins, what is the probability of getting exactly 3 heads? What is the probability of getting more than 3 heads?"
   ]
  },
  {
   "cell_type": "code",
   "execution_count": 51,
   "id": "21e73301",
   "metadata": {
    "scrolled": true
   },
   "outputs": [
    {
     "data": {
      "text/html": [
       "<div>\n",
       "<style scoped>\n",
       "    .dataframe tbody tr th:only-of-type {\n",
       "        vertical-align: middle;\n",
       "    }\n",
       "\n",
       "    .dataframe tbody tr th {\n",
       "        vertical-align: top;\n",
       "    }\n",
       "\n",
       "    .dataframe thead th {\n",
       "        text-align: right;\n",
       "    }\n",
       "</style>\n",
       "<table border=\"1\" class=\"dataframe\">\n",
       "  <thead>\n",
       "    <tr style=\"text-align: right;\">\n",
       "      <th></th>\n",
       "      <th>one</th>\n",
       "      <th>two</th>\n",
       "      <th>three</th>\n",
       "      <th>four</th>\n",
       "      <th>five</th>\n",
       "      <th>six</th>\n",
       "      <th>seven</th>\n",
       "      <th>eight</th>\n",
       "    </tr>\n",
       "  </thead>\n",
       "  <tbody>\n",
       "    <tr>\n",
       "      <th>0</th>\n",
       "      <td>0</td>\n",
       "      <td>0</td>\n",
       "      <td>1</td>\n",
       "      <td>1</td>\n",
       "      <td>1</td>\n",
       "      <td>0</td>\n",
       "      <td>1</td>\n",
       "      <td>0</td>\n",
       "    </tr>\n",
       "    <tr>\n",
       "      <th>1</th>\n",
       "      <td>0</td>\n",
       "      <td>0</td>\n",
       "      <td>1</td>\n",
       "      <td>1</td>\n",
       "      <td>0</td>\n",
       "      <td>0</td>\n",
       "      <td>1</td>\n",
       "      <td>0</td>\n",
       "    </tr>\n",
       "    <tr>\n",
       "      <th>2</th>\n",
       "      <td>0</td>\n",
       "      <td>0</td>\n",
       "      <td>1</td>\n",
       "      <td>1</td>\n",
       "      <td>1</td>\n",
       "      <td>0</td>\n",
       "      <td>0</td>\n",
       "      <td>1</td>\n",
       "    </tr>\n",
       "    <tr>\n",
       "      <th>3</th>\n",
       "      <td>1</td>\n",
       "      <td>0</td>\n",
       "      <td>0</td>\n",
       "      <td>0</td>\n",
       "      <td>0</td>\n",
       "      <td>0</td>\n",
       "      <td>1</td>\n",
       "      <td>1</td>\n",
       "    </tr>\n",
       "    <tr>\n",
       "      <th>4</th>\n",
       "      <td>1</td>\n",
       "      <td>1</td>\n",
       "      <td>0</td>\n",
       "      <td>0</td>\n",
       "      <td>1</td>\n",
       "      <td>0</td>\n",
       "      <td>0</td>\n",
       "      <td>0</td>\n",
       "    </tr>\n",
       "    <tr>\n",
       "      <th>...</th>\n",
       "      <td>...</td>\n",
       "      <td>...</td>\n",
       "      <td>...</td>\n",
       "      <td>...</td>\n",
       "      <td>...</td>\n",
       "      <td>...</td>\n",
       "      <td>...</td>\n",
       "      <td>...</td>\n",
       "    </tr>\n",
       "    <tr>\n",
       "      <th>9995</th>\n",
       "      <td>1</td>\n",
       "      <td>0</td>\n",
       "      <td>1</td>\n",
       "      <td>1</td>\n",
       "      <td>0</td>\n",
       "      <td>0</td>\n",
       "      <td>1</td>\n",
       "      <td>1</td>\n",
       "    </tr>\n",
       "    <tr>\n",
       "      <th>9996</th>\n",
       "      <td>0</td>\n",
       "      <td>0</td>\n",
       "      <td>0</td>\n",
       "      <td>0</td>\n",
       "      <td>0</td>\n",
       "      <td>1</td>\n",
       "      <td>1</td>\n",
       "      <td>1</td>\n",
       "    </tr>\n",
       "    <tr>\n",
       "      <th>9997</th>\n",
       "      <td>0</td>\n",
       "      <td>1</td>\n",
       "      <td>1</td>\n",
       "      <td>0</td>\n",
       "      <td>0</td>\n",
       "      <td>0</td>\n",
       "      <td>1</td>\n",
       "      <td>0</td>\n",
       "    </tr>\n",
       "    <tr>\n",
       "      <th>9998</th>\n",
       "      <td>1</td>\n",
       "      <td>0</td>\n",
       "      <td>1</td>\n",
       "      <td>0</td>\n",
       "      <td>1</td>\n",
       "      <td>0</td>\n",
       "      <td>1</td>\n",
       "      <td>1</td>\n",
       "    </tr>\n",
       "    <tr>\n",
       "      <th>9999</th>\n",
       "      <td>1</td>\n",
       "      <td>0</td>\n",
       "      <td>1</td>\n",
       "      <td>0</td>\n",
       "      <td>1</td>\n",
       "      <td>0</td>\n",
       "      <td>1</td>\n",
       "      <td>0</td>\n",
       "    </tr>\n",
       "  </tbody>\n",
       "</table>\n",
       "<p>10000 rows × 8 columns</p>\n",
       "</div>"
      ],
      "text/plain": [
       "      one  two  three  four  five  six  seven  eight\n",
       "0       0    0      1     1     1    0      1      0\n",
       "1       0    0      1     1     0    0      1      0\n",
       "2       0    0      1     1     1    0      0      1\n",
       "3       1    0      0     0     0    0      1      1\n",
       "4       1    1      0     0     1    0      0      0\n",
       "...   ...  ...    ...   ...   ...  ...    ...    ...\n",
       "9995    1    0      1     1     0    0      1      1\n",
       "9996    0    0      0     0     0    1      1      1\n",
       "9997    0    1      1     0     0    0      1      0\n",
       "9998    1    0      1     0     1    0      1      1\n",
       "9999    1    0      1     0     1    0      1      0\n",
       "\n",
       "[10000 rows x 8 columns]"
      ]
     },
     "execution_count": 51,
     "metadata": {},
     "output_type": "execute_result"
    }
   ],
   "source": [
    "coinflips = pd.DataFrame( \n",
    "                            np.random.choice([1, 0], 10_000 * 8).reshape(10_000,8) , \n",
    "                            columns = [\"one\",\"two\",\"three\",\"four\",\"five\",\"six\",\"seven\",\"eight\"]\n",
    "                        )\n",
    "coinflips"
   ]
  },
  {
   "cell_type": "code",
   "execution_count": 56,
   "id": "e1542e9f",
   "metadata": {},
   "outputs": [
    {
     "data": {
      "text/html": [
       "<div>\n",
       "<style scoped>\n",
       "    .dataframe tbody tr th:only-of-type {\n",
       "        vertical-align: middle;\n",
       "    }\n",
       "\n",
       "    .dataframe tbody tr th {\n",
       "        vertical-align: top;\n",
       "    }\n",
       "\n",
       "    .dataframe thead th {\n",
       "        text-align: right;\n",
       "    }\n",
       "</style>\n",
       "<table border=\"1\" class=\"dataframe\">\n",
       "  <thead>\n",
       "    <tr style=\"text-align: right;\">\n",
       "      <th></th>\n",
       "      <th>one</th>\n",
       "      <th>two</th>\n",
       "      <th>three</th>\n",
       "      <th>four</th>\n",
       "      <th>five</th>\n",
       "      <th>six</th>\n",
       "      <th>seven</th>\n",
       "      <th>eight</th>\n",
       "      <th>head_count</th>\n",
       "    </tr>\n",
       "  </thead>\n",
       "  <tbody>\n",
       "    <tr>\n",
       "      <th>0</th>\n",
       "      <td>0</td>\n",
       "      <td>0</td>\n",
       "      <td>1</td>\n",
       "      <td>1</td>\n",
       "      <td>1</td>\n",
       "      <td>0</td>\n",
       "      <td>1</td>\n",
       "      <td>0</td>\n",
       "      <td>4.0</td>\n",
       "    </tr>\n",
       "    <tr>\n",
       "      <th>1</th>\n",
       "      <td>0</td>\n",
       "      <td>0</td>\n",
       "      <td>1</td>\n",
       "      <td>1</td>\n",
       "      <td>0</td>\n",
       "      <td>0</td>\n",
       "      <td>1</td>\n",
       "      <td>0</td>\n",
       "      <td>3.0</td>\n",
       "    </tr>\n",
       "    <tr>\n",
       "      <th>2</th>\n",
       "      <td>0</td>\n",
       "      <td>0</td>\n",
       "      <td>1</td>\n",
       "      <td>1</td>\n",
       "      <td>1</td>\n",
       "      <td>0</td>\n",
       "      <td>0</td>\n",
       "      <td>1</td>\n",
       "      <td>4.0</td>\n",
       "    </tr>\n",
       "    <tr>\n",
       "      <th>3</th>\n",
       "      <td>1</td>\n",
       "      <td>0</td>\n",
       "      <td>0</td>\n",
       "      <td>0</td>\n",
       "      <td>0</td>\n",
       "      <td>0</td>\n",
       "      <td>1</td>\n",
       "      <td>1</td>\n",
       "      <td>3.0</td>\n",
       "    </tr>\n",
       "    <tr>\n",
       "      <th>4</th>\n",
       "      <td>1</td>\n",
       "      <td>1</td>\n",
       "      <td>0</td>\n",
       "      <td>0</td>\n",
       "      <td>1</td>\n",
       "      <td>0</td>\n",
       "      <td>0</td>\n",
       "      <td>0</td>\n",
       "      <td>3.0</td>\n",
       "    </tr>\n",
       "    <tr>\n",
       "      <th>...</th>\n",
       "      <td>...</td>\n",
       "      <td>...</td>\n",
       "      <td>...</td>\n",
       "      <td>...</td>\n",
       "      <td>...</td>\n",
       "      <td>...</td>\n",
       "      <td>...</td>\n",
       "      <td>...</td>\n",
       "      <td>...</td>\n",
       "    </tr>\n",
       "    <tr>\n",
       "      <th>9995</th>\n",
       "      <td>1</td>\n",
       "      <td>0</td>\n",
       "      <td>1</td>\n",
       "      <td>1</td>\n",
       "      <td>0</td>\n",
       "      <td>0</td>\n",
       "      <td>1</td>\n",
       "      <td>1</td>\n",
       "      <td>5.0</td>\n",
       "    </tr>\n",
       "    <tr>\n",
       "      <th>9996</th>\n",
       "      <td>0</td>\n",
       "      <td>0</td>\n",
       "      <td>0</td>\n",
       "      <td>0</td>\n",
       "      <td>0</td>\n",
       "      <td>1</td>\n",
       "      <td>1</td>\n",
       "      <td>1</td>\n",
       "      <td>3.0</td>\n",
       "    </tr>\n",
       "    <tr>\n",
       "      <th>9997</th>\n",
       "      <td>0</td>\n",
       "      <td>1</td>\n",
       "      <td>1</td>\n",
       "      <td>0</td>\n",
       "      <td>0</td>\n",
       "      <td>0</td>\n",
       "      <td>1</td>\n",
       "      <td>0</td>\n",
       "      <td>3.0</td>\n",
       "    </tr>\n",
       "    <tr>\n",
       "      <th>9998</th>\n",
       "      <td>1</td>\n",
       "      <td>0</td>\n",
       "      <td>1</td>\n",
       "      <td>0</td>\n",
       "      <td>1</td>\n",
       "      <td>0</td>\n",
       "      <td>1</td>\n",
       "      <td>1</td>\n",
       "      <td>5.0</td>\n",
       "    </tr>\n",
       "    <tr>\n",
       "      <th>9999</th>\n",
       "      <td>1</td>\n",
       "      <td>0</td>\n",
       "      <td>1</td>\n",
       "      <td>0</td>\n",
       "      <td>1</td>\n",
       "      <td>0</td>\n",
       "      <td>1</td>\n",
       "      <td>0</td>\n",
       "      <td>4.0</td>\n",
       "    </tr>\n",
       "  </tbody>\n",
       "</table>\n",
       "<p>10000 rows × 9 columns</p>\n",
       "</div>"
      ],
      "text/plain": [
       "      one  two  three  four  five  six  seven  eight  head_count\n",
       "0       0    0      1     1     1    0      1      0         4.0\n",
       "1       0    0      1     1     0    0      1      0         3.0\n",
       "2       0    0      1     1     1    0      0      1         4.0\n",
       "3       1    0      0     0     0    0      1      1         3.0\n",
       "4       1    1      0     0     1    0      0      0         3.0\n",
       "...   ...  ...    ...   ...   ...  ...    ...    ...         ...\n",
       "9995    1    0      1     1     0    0      1      1         5.0\n",
       "9996    0    0      0     0     0    1      1      1         3.0\n",
       "9997    0    1      1     0     0    0      1      0         3.0\n",
       "9998    1    0      1     0     1    0      1      1         5.0\n",
       "9999    1    0      1     0     1    0      1      0         4.0\n",
       "\n",
       "[10000 rows x 9 columns]"
      ]
     },
     "execution_count": 56,
     "metadata": {},
     "output_type": "execute_result"
    }
   ],
   "source": [
    "coinflips[\"head_count\"] = coinflips.sum(1)\n",
    "coinflips"
   ]
  },
  {
   "cell_type": "code",
   "execution_count": 60,
   "id": "1292f1cc",
   "metadata": {},
   "outputs": [
    {
     "data": {
      "text/plain": [
       "0.2186"
      ]
     },
     "execution_count": 60,
     "metadata": {},
     "output_type": "execute_result"
    }
   ],
   "source": [
    "threeheads = coinflips.head_count == 3\n",
    "threeheads.mean()"
   ]
  },
  {
   "cell_type": "markdown",
   "id": "8d10fa56",
   "metadata": {},
   "source": [
    "### 3. There are approximitely 3 web development cohorts for every 1 data science cohort at Codeup. Assuming that Codeup randomly selects an alumni to put on a billboard, what are the odds that the two billboards I drive past both have data science students on them?"
   ]
  },
  {
   "cell_type": "code",
   "execution_count": 90,
   "id": "5c00b692",
   "metadata": {},
   "outputs": [
    {
     "data": {
      "text/plain": [
       "0.0631"
      ]
     },
     "execution_count": 90,
     "metadata": {},
     "output_type": "execute_result"
    }
   ],
   "source": [
    "# 3 web dev\n",
    "# 1 data science\n",
    "# 2 billboards\n",
    "\n",
    "n_trials = nrows = 10_000 # number of trials\n",
    "n_billboards = ncols = 2 # number of billboards\n",
    "\n",
    "# Creating my random chances, I have 3 web devs to 1 data science. \n",
    "# An array will be made of 10,000 chances, with what's on the 2 billboards\n",
    "alumni = np.random.choice([\"web dev\", \"web dev\",\"web dev\",\"data science\" ], n_trials * n_billboards).reshape(nrows,ncols)\n",
    "\n",
    "# Now to find my data scientists\n",
    "is_data_scientist = alumni == 'data science'\n",
    "\n",
    "# Finally, I count how many times 2 billboards both had data scientists on them and \n",
    "# divide by the amount of trials to find my percent chance!\n",
    "p_2DS_billboards = is_data_scientist[is_data_scientist.sum(1) == 2].shape[0] / n_trials\n",
    "\n",
    "p_2DS_billboards"
   ]
  },
  {
   "cell_type": "markdown",
   "id": "1a4acb89",
   "metadata": {},
   "source": [
    "### 4. Codeup students buy, on average, 3 poptart packages with a standard deviation of 1.5 a day from the snack vending machine. If on monday the machine is restocked with 17 poptart packages, how likely is it that I will be able to buy some poptarts on Friday afternoon? (Remember, if you have mean and standard deviation, use the np.random.normal)"
   ]
  },
  {
   "cell_type": "code",
   "execution_count": 115,
   "id": "25154667",
   "metadata": {},
   "outputs": [
    {
     "data": {
      "text/plain": [
       "0.8815"
      ]
     },
     "execution_count": 115,
     "metadata": {},
     "output_type": "execute_result"
    }
   ],
   "source": [
    "#3 poptart packages\n",
    "# stdv 1.5\n",
    "# Monday 17 restock\n",
    "# chance of poptart on Friday afternoon\n",
    "# I'm going to assume students got to the poptarts first on Friday, so I'll include it in my poptarts calculations \n",
    "\n",
    "avg_poptarts = 3\n",
    "stdv_poptarts = 1.5\n",
    "ntrials = 10_000\n",
    "num_weekdays = 5\n",
    "\n",
    "# Creating my 10,000 weeks worth of daily poptart eating from Monday-Friday\n",
    "poptart_availability  = np.random.normal(avg_poptarts, stdv_poptarts, ntrials * num_weekdays).astype(int).reshape(ntrials, 5) \n",
    "\n",
    "# Where did we eat less than 17 poptarts between Mononday-Friday\n",
    "poptart_availability[poptart_availability.sum(1) < 17].shape[0]\n",
    "\n",
    "# Now to find the percent chance of getting a poptart on a Friday Afternoon\n",
    "# I'm taking the weeks that ate less than 17 poptarts in a week, and dividing it by the 10,000 total weeks\n",
    "p_Fri_poptart_availability = poptart_availability[poptart_availability.sum(1) < 17].shape[0] / ntrials\n",
    "\n",
    "p_Fri_poptart_availability"
   ]
  },
  {
   "cell_type": "markdown",
   "id": "6b4b3292",
   "metadata": {},
   "source": [
    "### 5. Compare Heights\n",
    "\n",
    "Men have an average height of 178 cm and standard deviation of 8cm.\n",
    "\n",
    "Women have a mean of 170, sd = 6cm.\n",
    "\n",
    "Since you have means and standard deviations, you can use np.random.normal to generate observations.\n",
    "\n",
    "### If a man and woman are chosen at random, P(woman taller than man)?"
   ]
  },
  {
   "cell_type": "code",
   "execution_count": 117,
   "id": "f8f92dd4",
   "metadata": {},
   "outputs": [
    {
     "data": {
      "text/plain": [
       "0.2091"
      ]
     },
     "execution_count": 117,
     "metadata": {},
     "output_type": "execute_result"
    }
   ],
   "source": [
    "# First to create my sample set with the information listed above\n",
    "women_hts = np.random.normal(170, 6, 10_000)\n",
    "men_hts = np.random.normal(178, 8, 10_000)\n",
    "\n",
    "# Now to just compare the two genders, and find the mean of that boolean for my Percent Chance\n",
    "p_W_taller = women_hts > men_hts\n",
    "p_W_taller.mean()"
   ]
  },
  {
   "cell_type": "markdown",
   "id": "8dedb654",
   "metadata": {},
   "source": [
    "### 6. When installing anaconda on a student's computer, there's a 1 in 250 chance that the download is corrupted and the installation fails. What are the odds that after having 50 students download anaconda, no one has an installation issue? 100 students?\n",
    "\n",
    "### What is the probability that we observe an installation issue within the first 150 students that download anaconda?"
   ]
  },
  {
   "cell_type": "code",
   "execution_count": 129,
   "id": "0a6b0e9d",
   "metadata": {},
   "outputs": [
    {
     "data": {
      "text/plain": [
       "0.995914"
      ]
     },
     "execution_count": 129,
     "metadata": {},
     "output_type": "execute_result"
    }
   ],
   "source": [
    "p_corrupted = 1/250\n",
    "\n",
    "# Creating random data for 50 students with 10_000 trials\n",
    "n_students = 50\n",
    "n_trials= 10_000\n",
    "anaconda_corruption = np.random.random((n_students,n_trials))\n",
    "\n",
    "# Searching for when corruption DID NOT occur and getting the % chance\n",
    "no_corruption = anaconda_corruption > p_corrupted\n",
    "no_corruption.mean()                           "
   ]
  },
  {
   "cell_type": "code",
   "execution_count": 130,
   "id": "c66f69a2",
   "metadata": {},
   "outputs": [
    {
     "data": {
      "text/plain": [
       "0.996012"
      ]
     },
     "execution_count": 130,
     "metadata": {},
     "output_type": "execute_result"
    }
   ],
   "source": [
    "# Creating random data for 100 students with 10_000 trials\n",
    "n_students = 100\n",
    "n_trials= 10_000\n",
    "anaconda_corruption = np.random.random((n_students,n_trials))\n",
    "\n",
    "# Searching for when corruption DID NOT occur and getting the % chance\n",
    "no_corruption = anaconda_corruption > p_corrupted\n",
    "no_corruption.mean()                           "
   ]
  },
  {
   "cell_type": "code",
   "execution_count": 131,
   "id": "b7093cc8",
   "metadata": {},
   "outputs": [
    {
     "data": {
      "text/plain": [
       "0.003944"
      ]
     },
     "execution_count": 131,
     "metadata": {},
     "output_type": "execute_result"
    }
   ],
   "source": [
    "# Creating random data for 50 students with 10_000 trials\n",
    "n_students = 150\n",
    "n_trials= 10_000\n",
    "anaconda_corruption = np.random.random((n_students,n_trials))\n",
    "\n",
    "# Searching for when corruption DID NOT occur and getting the % chance\n",
    "corruption = anaconda_corruption < p_corrupted\n",
    "corruption.mean()                           "
   ]
  },
  {
   "cell_type": "markdown",
   "id": "e1178ea3",
   "metadata": {},
   "source": [
    "### 7. There's a 70% chance on any given day that there will be at least one food truck at Travis Park. However, you haven't seen a food truck there in 3 days. How unlikely is this?\n",
    "\n",
    "### How likely is it that a food truck will show up sometime this week?"
   ]
  },
  {
   "cell_type": "code",
   "execution_count": 132,
   "id": "1303a49b",
   "metadata": {},
   "outputs": [
    {
     "data": {
      "text/plain": [
       "array([[0.90945915, 0.31892839, 0.33510833, ..., 0.12627759, 0.86977191,\n",
       "        0.90382266],\n",
       "       [0.76681031, 0.88027942, 0.57403687, ..., 0.95023754, 0.05002211,\n",
       "        0.06022825],\n",
       "       [0.7309223 , 0.57050297, 0.49402339, ..., 0.54919882, 0.75586843,\n",
       "        0.9498591 ],\n",
       "       ...,\n",
       "       [0.95022045, 0.64447223, 0.69382129, ..., 0.31527051, 0.89905955,\n",
       "        0.91204136],\n",
       "       [0.53094286, 0.63971387, 0.04228791, ..., 0.76485824, 0.89160831,\n",
       "        0.88123246],\n",
       "       [0.84340357, 0.22752929, 0.37541552, ..., 0.57174487, 0.12828776,\n",
       "        0.86301906]])"
      ]
     },
     "execution_count": 132,
     "metadata": {},
     "output_type": "execute_result"
    }
   ],
   "source": [
    "p_foodTruck = 0.7\n",
    "\n",
    "foodTruck = np.random.random((7,10_000))\n",
    "foodTruck"
   ]
  },
  {
   "cell_type": "code",
   "execution_count": null,
   "id": "99a91aae",
   "metadata": {},
   "outputs": [],
   "source": []
  }
 ],
 "metadata": {
  "kernelspec": {
   "display_name": "Python 3",
   "language": "python",
   "name": "python3"
  },
  "language_info": {
   "codemirror_mode": {
    "name": "ipython",
    "version": 3
   },
   "file_extension": ".py",
   "mimetype": "text/x-python",
   "name": "python",
   "nbconvert_exporter": "python",
   "pygments_lexer": "ipython3",
   "version": "3.8.8"
  }
 },
 "nbformat": 4,
 "nbformat_minor": 5
}
