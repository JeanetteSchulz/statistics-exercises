{
 "cells": [
  {
   "cell_type": "markdown",
   "id": "af8ff577",
   "metadata": {},
   "source": [
    "# Probability Distribution Exercises\n",
    "<hr style=\"border:2px solid blue\"> </hr>\n"
   ]
  },
  {
   "cell_type": "code",
   "execution_count": 2,
   "id": "56b8e794",
   "metadata": {},
   "outputs": [],
   "source": [
    "import matplotlib.pyplot as plt\n",
    "import numpy as np\n",
    "import pandas as pd\n",
    "from scipy import stats"
   ]
  },
  {
   "cell_type": "code",
   "execution_count": 3,
   "id": "a239060a",
   "metadata": {},
   "outputs": [],
   "source": [
    "# Binomial Distributions: All about determining a binary outcome of an event. Success vs Failure\n",
    "# Uniform Distributions: Have equal likelyhoods among all outcomes, like a deck of cards\n",
    "# Normal Distributions: Model a continuous random variable\n",
    "# Poisson Distributions: A certain amount of events occuring over a time interval"
   ]
  },
  {
   "cell_type": "markdown",
   "id": "dbf1b29e",
   "metadata": {},
   "source": [
    "### 1. A bank found that the average number of cars waiting during the noon hour at a drive-up window follows a Poisson distribution with a mean of 2 cars. Make a chart of this distribution and answer these questions concerning the probability of cars waiting at the drive-up window.\n"
   ]
  },
  {
   "cell_type": "code",
   "execution_count": 4,
   "id": "3652f4d3",
   "metadata": {},
   "outputs": [
    {
     "data": {
      "image/png": "[encoded data removed]",
      "text/plain": [
       "<Figure size 432x288 with 1 Axes>"
      ]
     },
     "metadata": {
      "needs_background": "light"
     },
     "output_type": "display_data"
    }
   ],
   "source": [
    "# This is a Poisson Distribution because it is over a time interval\n",
    "λ = 2 # cars at noon hour\n",
    "\n",
    "x = np.arange(0,12)\n",
    "y = stats.poisson(λ).pmf(x)\n",
    "\n",
    "plt.bar(x,y)\n",
    "plt.xlabel('Number of Cars')\n",
    "plt.ylabel(\"P(x)\");"
   ]
  },
  {
   "cell_type": "markdown",
   "id": "6e57dabf",
   "metadata": {},
   "source": [
    "### What is the probability that no cars drive up in the noon hour?\n"
   ]
  },
  {
   "cell_type": "code",
   "execution_count": 5,
   "id": "16cdbf63",
   "metadata": {},
   "outputs": [
    {
     "name": "stdout",
     "output_type": "stream",
     "text": [
      "The probability that no cars drive up in the noon hour is 13.5 %\n"
     ]
    }
   ],
   "source": [
    "no_cars = stats.poisson(λ).pmf(0)\n",
    "print(\"The probability that no cars drive up in the noon hour is\" , round(no_cars*100, 1) , \"%\")"
   ]
  },
  {
   "cell_type": "markdown",
   "id": "8f2c8482",
   "metadata": {},
   "source": [
    "### What is the probability that 3 or more cars come through the drive through?\n"
   ]
  },
  {
   "cell_type": "code",
   "execution_count": 6,
   "id": "f4d802cc",
   "metadata": {},
   "outputs": [
    {
     "name": "stdout",
     "output_type": "stream",
     "text": [
      "The probability that 3 or more cars come through the drive through is 32 %\n"
     ]
    }
   ],
   "source": [
    "three_or_more = stats.poisson(λ).sf(2)\n",
    "print(\"The probability that 3 or more cars come through the drive through is\" , round(three_or_more*100) , \"%\")"
   ]
  },
  {
   "cell_type": "markdown",
   "id": "f17540fd",
   "metadata": {},
   "source": [
    "### How likely is it that the drive through gets at least 1 car?"
   ]
  },
  {
   "cell_type": "code",
   "execution_count": 7,
   "id": "b637c32b",
   "metadata": {},
   "outputs": [
    {
     "name": "stdout",
     "output_type": "stream",
     "text": [
      "The probability that the drive through gets at least 1 car is 86 %\n"
     ]
    }
   ],
   "source": [
    "at_least_one = stats.poisson(λ).sf(0)\n",
    "print(\"The probability that the drive through gets at least 1 car is\" , round(at_least_one*100) , \"%\")"
   ]
  },
  {
   "cell_type": "markdown",
   "id": "52ce460a",
   "metadata": {},
   "source": [
    "### 2. Grades of State University graduates are normally distributed with a mean of 3.0 and a standard deviation of .3. Calculate the following:\n",
    "\n",
    "### What grade point average is required to be in the top 5% of the graduating class?\n"
   ]
  },
  {
   "cell_type": "code",
   "execution_count": 8,
   "id": "7f61b7a8",
   "metadata": {},
   "outputs": [
    {
     "name": "stdout",
     "output_type": "stream",
     "text": [
      "You need a 3.49 GPA to be in the top 5%.\n"
     ]
    }
   ],
   "source": [
    "μ = 3.0\n",
    "σ = 0.3\n",
    "\n",
    "gpa = stats.norm( μ , σ )\n",
    "\n",
    "gpa.isf(.05)\n",
    "\n",
    "print(\"You need a\" , round(gpa.isf(.05) , 2) , \"GPA to be in the top 5%.\")"
   ]
  },
  {
   "cell_type": "markdown",
   "id": "42e4402f",
   "metadata": {},
   "source": [
    "### What GPA constitutes the bottom 15% of the class?\n"
   ]
  },
  {
   "cell_type": "code",
   "execution_count": 9,
   "id": "68f1c7f4",
   "metadata": {},
   "outputs": [
    {
     "name": "stdout",
     "output_type": "stream",
     "text": [
      "You are in the bottom 15% if you have a GPA of 2.69 or lower.\n"
     ]
    }
   ],
   "source": [
    "gpa.ppf(.15)\n",
    "\n",
    "print(\"You are in the bottom 15% if you have a GPA of\" , round(gpa.ppf(.15) , 2) , \"or lower.\")"
   ]
  },
  {
   "cell_type": "markdown",
   "id": "96520970",
   "metadata": {},
   "source": [
    "### An eccentric alumnus left scholarship money for students in the third decile from the bottom of their class. Determine the range of the third decile. Would a student with a 2.8 grade point average qualify for this scholarship?\n"
   ]
  },
  {
   "cell_type": "code",
   "execution_count": 10,
   "id": "314b21ed",
   "metadata": {},
   "outputs": [
    {
     "name": "stdout",
     "output_type": "stream",
     "text": [
      "Yes, you would need a GPA of 2.84 or lower to qualify.\n"
     ]
    }
   ],
   "source": [
    "# Third decile is 20-30 percentiles!\n",
    "# Decile 1: 0-10\n",
    "# Decile 2: 10-20\n",
    "# Decile 3: 20-30\n",
    "\n",
    "gpa.ppf(.30)\n",
    "print(\"Yes, you would need a GPA of\", round(gpa.ppf(.30), 2), \"or lower to qualify.\")"
   ]
  },
  {
   "cell_type": "code",
   "execution_count": 11,
   "id": "50a475d4",
   "metadata": {},
   "outputs": [
    {
     "data": {
      "text/plain": [
       "array([2.74751363, 2.84267985])"
      ]
     },
     "execution_count": 11,
     "metadata": {},
     "output_type": "execute_result"
    }
   ],
   "source": [
    "# Instructor Solution\n",
    "gpa.ppf([.2, .30])"
   ]
  },
  {
   "cell_type": "markdown",
   "id": "74699a08",
   "metadata": {},
   "source": [
    "### If I have a GPA of 3.5, what percentile am I in?"
   ]
  },
  {
   "cell_type": "code",
   "execution_count": 12,
   "id": "b1348ee0",
   "metadata": {},
   "outputs": [
    {
     "name": "stdout",
     "output_type": "stream",
     "text": [
      "A GPA of 3.5 would be in the 95 percentile.\n"
     ]
    }
   ],
   "source": [
    "gpa.cdf(3.5)\n",
    "print(\"A GPA of 3.5 would be in the\", int(gpa.cdf(3.5) * 100), \"percentile.\")"
   ]
  },
  {
   "cell_type": "markdown",
   "id": "edae52ac",
   "metadata": {},
   "source": [
    "### 3. A marketing website has an average click-through rate of 2%. One day they observe 4326 visitors and 97 click-throughs. How likely is it that this many people or more click through?"
   ]
  },
  {
   "cell_type": "code",
   "execution_count": 13,
   "id": "bc4cacbd",
   "metadata": {},
   "outputs": [
    {
     "name": "stdout",
     "output_type": "stream",
     "text": [
      "It is 13.98 % likely that this many people or more clicked through.\n"
     ]
    }
   ],
   "source": [
    "# Binomial Distribution: click vs not clicked\n",
    "\n",
    "stats.binom(4326 , .02).sf(96)\n",
    "\n",
    "print(\"It is\", round(stats.binom(4326 , .02).sf(96) *100, 2), \"% likely that this many people or more clicked through.\" )"
   ]
  },
  {
   "cell_type": "markdown",
   "id": "53cd7ad0",
   "metadata": {},
   "source": [
    "### 4. You are working on some statistics homework consisting of 100 questions where all of the answers are a probability rounded to the hundreths place. Looking to save time, you put down random probabilities as the answer to each question.\n",
    "\n",
    "### What is the probability that at least one of your first 60 answers is correct?"
   ]
  },
  {
   "cell_type": "code",
   "execution_count": 106,
   "id": "54903a53",
   "metadata": {},
   "outputs": [
    {
     "name": "stdout",
     "output_type": "stream",
     "text": [
      "There is a 45.3 % chance one of the 60 answers is correct.\n"
     ]
    }
   ],
   "source": [
    "# Hundreths place .01\n",
    "# Binomial Distribution: correct answer vs not correct\n",
    "# Self reminder that .sf() is exclusive, so if I want 1 or more answers I need to put 0\n",
    "# Chance of choosing the right number p = 0.01\n",
    "\n",
    "stats.binom(60, 1/100).sf(0)\n",
    "\n",
    "print(\"There is a\", round(stats.binom(60, 1/100).sf(0) *100, 1) , \"% chance one of the 60 answers is correct.\")"
   ]
  },
  {
   "cell_type": "markdown",
   "id": "556d7b8a",
   "metadata": {},
   "source": [
    "### 5. The codeup staff tends to get upset when the student break area is not cleaned up. Suppose that there's a 3% chance that any one student cleans the break area when they visit it, and, on any given day, about 90% of the 3 active cohorts of 22 students visit the break area. How likely is it that the break area gets cleaned up each day? How likely is it that it goes two days without getting cleaned up? All week?"
   ]
  },
  {
   "cell_type": "code",
   "execution_count": 125,
   "id": "7601472f",
   "metadata": {},
   "outputs": [],
   "source": [
    "## SEE INSTRUCTOR NOTE FOR FIXING ANSWERS"
   ]
  },
  {
   "cell_type": "code",
   "execution_count": 130,
   "id": "878e06d0",
   "metadata": {},
   "outputs": [
    {
     "name": "stdout",
     "output_type": "stream",
     "text": [
      "Getting Cleaned Each Day: 0.83\n",
      "Two Days without cleaning: 0.03\n",
      "One week without cleaning: 3e-06\n"
     ]
    }
   ],
   "source": [
    "# Creating a variable for the number representing 90% of 3 cohorts with 22 students\n",
    "students_visited = round(3 * 22 * .90)\n",
    "\n",
    "# Binomial Distribution: Cleaned vs Not cleaned\n",
    "stats.binom(students_visited, .03)\n",
    "\n",
    "print(\"Getting Cleaned Each Day:\", round(stats.binom(students_visited, .03).sf(0), 2) )\n",
    "print(\"Two Days without cleaning:\", round(stats.binom(students_visited* 2, .03).pmf(0), 2) )\n",
    "print(\"One week without cleaning:\", round(stats.binom(students_visited * 7, .03).pmf(0), 6) )\n"
   ]
  },
  {
   "cell_type": "code",
   "execution_count": 126,
   "id": "e680436e",
   "metadata": {},
   "outputs": [
    {
     "data": {
      "text/plain": [
       "Text(0.5, 0, 'Number of Times Area is Cleaned Per Day')"
      ]
     },
     "execution_count": 126,
     "metadata": {},
     "output_type": "execute_result"
    },
    {
     "data": {
      "image/png": "[encoded data removed]",
      "text/plain": [
       "<Figure size 432x288 with 1 Axes>"
      ]
     },
     "metadata": {
      "needs_background": "light"
     },
     "output_type": "display_data"
    }
   ],
   "source": [
    "x = np.arange(0,8)\n",
    "y = stats.binom(students_visited, .03).pmf(x)\n",
    "\n",
    "plt.bar(x,y);\n",
    "plt.xlabel(\"Number of Times Area is Cleaned Per Day\")"
   ]
  },
  {
   "cell_type": "markdown",
   "id": "850c2dbc",
   "metadata": {},
   "source": [
    "### 6. You want to get lunch at La Panaderia, but notice that the line is usually very long at lunchtime. After several weeks of careful observation, you notice that the average number of people in line when your lunch break starts is normally distributed with a mean of 15 and standard deviation of 3. If it takes 2 minutes for each person to order, and 10 minutes from ordering to getting your food, what is the likelihood that you have at least 15 minutes left to eat your food before you have to go back to class? Assume you have one hour for lunch, and ignore travel time to and from La Panaderia."
   ]
  },
  {
   "cell_type": "code",
   "execution_count": 68,
   "id": "79ee354a",
   "metadata": {},
   "outputs": [
    {
     "name": "stdout",
     "output_type": "stream",
     "text": [
      "P(15 minutes to sit and eat)= 0.75\n"
     ]
    }
   ],
   "source": [
    "μ = 15\n",
    "σ = 3\n",
    "# 2 minutes /person\n",
    "# 10 minutes to get food after order\n",
    "# 1 hour for lunch\n",
    "# P(15 minutes to sit an eat)\n",
    "\n",
    "# Let's toss those stats into a Normal Distribution\n",
    "people_in_line = stats.norm(μ , σ)\n",
    "\n",
    "# Now to set that aside and do some math. What number of people in line will give me enough time?\n",
    "# 60 minutes - # people in line ordering @ 2 min each - 10 minutes waiting to get my order\n",
    "# time_to_eat = 60 - (2 * 17) - 10\n",
    "# Magic number is 17 people or less to have 15 minutes to eat\n",
    "\n",
    "people_in_line.cdf(17)\n",
    "print(\"P(15 minutes to sit and eat)=\", round(people_in_line.cdf(17) , 2) )"
   ]
  },
  {
   "cell_type": "code",
   "execution_count": 131,
   "id": "6b2a5dd4",
   "metadata": {},
   "outputs": [
    {
     "data": {
      "text/plain": [
       "0.6914624612740131"
      ]
     },
     "execution_count": 131,
     "metadata": {},
     "output_type": "execute_result"
    }
   ],
   "source": [
    "#Instructor Solution\n",
    "mean = 15 * 2 #minutes\n",
    "std_dev= 3 * 2 #minutes\n",
    "\n",
    "# Max time in line without being late to class = 60 - 15 - 10 - 2\n",
    "stats.norm(mean,std_dev).cdf(33)"
   ]
  },
  {
   "cell_type": "markdown",
   "id": "6546a1d4",
   "metadata": {},
   "source": [
    "### 7. Connect to the employees database and find the average salary of current employees, along with the standard deviation. For the following questions, calculate the answer based on modeling the employees salaries with a normal distribution defined by the calculated mean and standard deviation then compare this answer to the actual values present in the salaries dataset.\n",
    "\n",
    "What percent of employees earn less than 60,000?\n",
    "\n",
    "What percent of employees earn more than 95,000?\n",
    "\n",
    "What percent of employees earn between 65,000 and 80,000?\n",
    "\n",
    "What do the top 5% of employees make?"
   ]
  },
  {
   "cell_type": "code",
   "execution_count": 69,
   "id": "925f0abf",
   "metadata": {},
   "outputs": [],
   "source": [
    "# This will be what I use every time I want to talk to a database in SQL\n",
    "def get_db_url(database_name):\n",
    "    from env import host, user, password\n",
    "    return f'mysql+pymysql://{user}:{password}@{host}/{database_name}'"
   ]
  },
  {
   "cell_type": "code",
   "execution_count": 75,
   "id": "2f11495e",
   "metadata": {},
   "outputs": [
    {
     "data": {
      "text/html": [
       "<div>\n",
       "<style scoped>\n",
       "    .dataframe tbody tr th:only-of-type {\n",
       "        vertical-align: middle;\n",
       "    }\n",
       "\n",
       "    .dataframe tbody tr th {\n",
       "        vertical-align: top;\n",
       "    }\n",
       "\n",
       "    .dataframe thead th {\n",
       "        text-align: right;\n",
       "    }\n",
       "</style>\n",
       "<table border=\"1\" class=\"dataframe\">\n",
       "  <thead>\n",
       "    <tr style=\"text-align: right;\">\n",
       "      <th></th>\n",
       "      <th>salary</th>\n",
       "    </tr>\n",
       "  </thead>\n",
       "  <tbody>\n",
       "    <tr>\n",
       "      <th>0</th>\n",
       "      <td>88958</td>\n",
       "    </tr>\n",
       "    <tr>\n",
       "      <th>1</th>\n",
       "      <td>72527</td>\n",
       "    </tr>\n",
       "    <tr>\n",
       "      <th>2</th>\n",
       "      <td>43311</td>\n",
       "    </tr>\n",
       "    <tr>\n",
       "      <th>3</th>\n",
       "      <td>74057</td>\n",
       "    </tr>\n",
       "    <tr>\n",
       "      <th>4</th>\n",
       "      <td>94692</td>\n",
       "    </tr>\n",
       "  </tbody>\n",
       "</table>\n",
       "</div>"
      ],
      "text/plain": [
       "   salary\n",
       "0   88958\n",
       "1   72527\n",
       "2   43311\n",
       "3   74057\n",
       "4   94692"
      ]
     },
     "execution_count": 75,
     "metadata": {},
     "output_type": "execute_result"
    }
   ],
   "source": [
    "current_salaries = pd.read_sql(\"\"\"SELECT salary FROM salaries WHERE to_date > NOW()\"\"\" , get_db_url(\"employees\"))\n",
    "current_salaries.head()"
   ]
  },
  {
   "cell_type": "code",
   "execution_count": 82,
   "id": "d02d8314",
   "metadata": {},
   "outputs": [],
   "source": [
    "# Creating my normal distribution variable\n",
    "μ = current_salaries.mean()\n",
    "σ = current_salaries.std()\n",
    "salaries = stats.norm(μ , σ)"
   ]
  },
  {
   "cell_type": "markdown",
   "id": "8d8f2e77",
   "metadata": {},
   "source": [
    "### What percent of employees earn less than 60,000?"
   ]
  },
  {
   "cell_type": "code",
   "execution_count": 88,
   "id": "b3b00290",
   "metadata": {},
   "outputs": [
    {
     "data": {
      "text/plain": [
       "0.244"
      ]
     },
     "execution_count": 88,
     "metadata": {},
     "output_type": "execute_result"
    }
   ],
   "source": [
    "# Because my answer is an array with only one element I'm going to pull that number out by calling that element\n",
    "round(salaries.cdf(60_000)[0] , 3)"
   ]
  },
  {
   "cell_type": "markdown",
   "id": "5a55f9ce",
   "metadata": {},
   "source": [
    "### What percent of employees earn more than 95,000?"
   ]
  },
  {
   "cell_type": "code",
   "execution_count": 87,
   "id": "5a40e551",
   "metadata": {},
   "outputs": [
    {
     "data": {
      "text/plain": [
       "0.092"
      ]
     },
     "execution_count": 87,
     "metadata": {},
     "output_type": "execute_result"
    }
   ],
   "source": [
    "round(salaries.sf(95_000)[0] , 3)"
   ]
  },
  {
   "cell_type": "markdown",
   "id": "1577f1f2",
   "metadata": {},
   "source": [
    "### What percent of employees earn between 65,000 and 80,000?"
   ]
  },
  {
   "cell_type": "code",
   "execution_count": 91,
   "id": "cdb77ca6",
   "metadata": {},
   "outputs": [
    {
     "data": {
      "text/plain": [
       "0.335"
      ]
     },
     "execution_count": 91,
     "metadata": {},
     "output_type": "execute_result"
    }
   ],
   "source": [
    "# I want to find in between, so I'm going to need to do some subtraction\n",
    "big = salaries.cdf(80_000)[0]\n",
    "small = salaries.cdf(65_000)[0]\n",
    "\n",
    "round(big - small, 3)"
   ]
  },
  {
   "cell_type": "code",
   "execution_count": 133,
   "id": "80736330",
   "metadata": {},
   "outputs": [
    {
     "data": {
      "text/plain": [
       "0.33506056854466654"
      ]
     },
     "execution_count": 133,
     "metadata": {},
     "output_type": "execute_result"
    }
   ],
   "source": [
    "#Instructor solution\n",
    "np.diff(salaries.cdf([65_000, 80_000]))"
   ]
  },
  {
   "cell_type": "markdown",
   "id": "f06ddd30",
   "metadata": {},
   "source": [
    "### What do the top 5% of employees make?"
   ]
  },
  {
   "cell_type": "code",
   "execution_count": 94,
   "id": "8be25b9e",
   "metadata": {},
   "outputs": [
    {
     "data": {
      "text/plain": [
       "100484.64"
      ]
     },
     "execution_count": 94,
     "metadata": {},
     "output_type": "execute_result"
    }
   ],
   "source": [
    "round(salaries.isf(.05)[0] , 2)"
   ]
  }
 ],
 "metadata": {
  "kernelspec": {
   "display_name": "Python 3",
   "language": "python",
   "name": "python3"
  },
  "language_info": {
   "codemirror_mode": {
    "name": "ipython",
    "version": 3
   },
   "file_extension": ".py",
   "mimetype": "text/x-python",
   "name": "python",
   "nbconvert_exporter": "python",
   "pygments_lexer": "ipython3",
   "version": "3.8.8"
  }
 },
 "nbformat": 4,
 "nbformat_minor": 5
}
